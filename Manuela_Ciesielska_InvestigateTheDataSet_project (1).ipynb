{
 "cells": [
  {
   "cell_type": "markdown",
   "id": "57490eb2",
   "metadata": {},
   "source": [
    "Project: INVESTIGATE THE DATA SET 'No-show appointments'\n",
    "\n",
    "Table of Contents:\n",
    "\n",
    "Introduction\n",
    "\n",
    "Data Wrangling\n",
    "\n",
    "Exploratory Data Analysis\n",
    "\n",
    "Conclusions"
   ]
  },
  {
   "cell_type": "markdown",
   "id": "278e792b",
   "metadata": {},
   "source": [
    "INTRODUCTION\n",
    "\n",
    "DATA SET DESCRITPION\n",
    "\n",
    "The data set chosen for analysis:\n",
    "NO-SHOW APPOINTMENTS\n",
    "\n",
    "The data set collects informations from 100k medical appointments in Brazil.\n",
    "It provides information about whether or not patients show up for their appointment together with a number of characteristics about the patient included in each row.\n",
    "\n",
    "The data set columns' names are as follows :\n",
    "PatientId (provides an ID of a patient), \n",
    "AppointmentID (provides an ID of the patient's appointment),\n",
    "Gender (provides information about the patient's gender), \n",
    "ScheduledDay(tells us on what day the patient set up their appointment), \n",
    "AppointmentDay (tells us the day of the patient's appointment),\n",
    "Age (tells us the age of the patient),\n",
    "Neighbourhood( indicates the location of the hospital), \n",
    "Scholarship(indicates whether or not the patient is enrolled in Brasilian welfare program Bolsa Família), \n",
    "Columns: Hipertension, Diabetes, Alcoholism, Handcap provide information about wheter or not the patient suffers from hypertension, diabetes, alcoholism or any handicap).  \n",
    "SMS_received (provides information about wheter or not a patient received an appointment confirmation sms),\n",
    "No-show (tells us wheter or not patient showed up for their appointment. If patients didn't show up, the column value is 'Yes')"
   ]
  },
  {
   "cell_type": "markdown",
   "id": "2bb3b03d",
   "metadata": {},
   "source": [
    "AIM OF THE ANALYSIS\n",
    "\n",
    "The analysis is focused on recognising factors which might help to predict how likely the patient will show up for their scheduled appointment. The hipothetical use of the result of the analysis might be the rebuilding of appointments booking system in order to save doctors' time and hospitals' money.\n",
    "\n",
    "\n",
    "QUESTIONS FOR ANALYSIS\n",
    "\n",
    "1.Is appointment attendance dependent on patients' age? \n",
    "  If yes, in which age group this dependency is the strongest? \n",
    "\n",
    "2.Is there a link between message received / not received and not showing up for the appointment?\n",
    "  If yes, in which age group this dependency is the strongest\n",
    "\n",
    "3.Is there a difference in appointments' attendace for different neighbourhoods. \n",
    "  Which neighbourhood has the highest number of ‘no-show-ups’? \n",
    "\n",
    "4.Does the day o the week of the appointment make a difference in appointments' attendance?\n",
    "\n",
    "5.Does illness or handicap  influence the amount of not attended appointments?\n",
    "\n"
   ]
  },
  {
   "cell_type": "code",
   "execution_count": 1,
   "id": "53bb004b",
   "metadata": {},
   "outputs": [],
   "source": [
    "#import necessary libraries\n",
    "import numpy as np\n",
    "import pandas as pd\n",
    "import matplotlib.pyplot as plt\n",
    "%matplotlib inline\n",
    "import seaborn as sns\n",
    "\n"
   ]
  },
  {
   "cell_type": "markdown",
   "id": "ebe0a2e8",
   "metadata": {},
   "source": [
    "DATA WRANGLING"
   ]
  },
  {
   "cell_type": "code",
   "execution_count": 2,
   "id": "00f48c20",
   "metadata": {},
   "outputs": [],
   "source": [
    "#upload csv file to pandas dataframe\n",
    "df = pd.read_csv('noshowappointments-may-2016.csv')"
   ]
  },
  {
   "cell_type": "markdown",
   "id": "7de24b9f",
   "metadata": {},
   "source": [
    "\n",
    "\n",
    "Gathering metadata to understand this particular dataset\n",
    "\n",
    "\n",
    "\n"
   ]
  },
  {
   "cell_type": "code",
   "execution_count": 3,
   "id": "f638fbe1",
   "metadata": {},
   "outputs": [
    {
     "data": {
      "text/plain": [
       "110527"
      ]
     },
     "execution_count": 3,
     "metadata": {},
     "output_type": "execute_result"
    }
   ],
   "source": [
    "#confirm number of rows in df\n",
    "df.shape[0]"
   ]
  },
  {
   "cell_type": "code",
   "execution_count": 4,
   "id": "05f65807",
   "metadata": {},
   "outputs": [
    {
     "data": {
      "text/plain": [
       "110527"
      ]
     },
     "execution_count": 4,
     "metadata": {},
     "output_type": "execute_result"
    }
   ],
   "source": [
    "#count the total number of appoinments \n",
    "df['AppointmentID'].count()"
   ]
  },
  {
   "cell_type": "code",
   "execution_count": 5,
   "id": "ccb425af",
   "metadata": {},
   "outputs": [
    {
     "data": {
      "text/plain": [
       "0"
      ]
     },
     "execution_count": 5,
     "metadata": {},
     "output_type": "execute_result"
    }
   ],
   "source": [
    "#check number of duplicates in df\n",
    "df.duplicated().sum()"
   ]
  },
  {
   "cell_type": "code",
   "execution_count": 6,
   "id": "450cd4d1",
   "metadata": {},
   "outputs": [
    {
     "data": {
      "text/plain": [
       "False"
      ]
     },
     "execution_count": 6,
     "metadata": {},
     "output_type": "execute_result"
    }
   ],
   "source": [
    "# check for null values\n",
    "df.isnull().values.any()"
   ]
  },
  {
   "cell_type": "code",
   "execution_count": 7,
   "id": "c2ecb6f0",
   "metadata": {
    "scrolled": true
   },
   "outputs": [
    {
     "data": {
      "text/html": [
       "<div>\n",
       "<style scoped>\n",
       "    .dataframe tbody tr th:only-of-type {\n",
       "        vertical-align: middle;\n",
       "    }\n",
       "\n",
       "    .dataframe tbody tr th {\n",
       "        vertical-align: top;\n",
       "    }\n",
       "\n",
       "    .dataframe thead th {\n",
       "        text-align: right;\n",
       "    }\n",
       "</style>\n",
       "<table border=\"1\" class=\"dataframe\">\n",
       "  <thead>\n",
       "    <tr style=\"text-align: right;\">\n",
       "      <th></th>\n",
       "      <th>PatientId</th>\n",
       "      <th>AppointmentID</th>\n",
       "      <th>Gender</th>\n",
       "      <th>ScheduledDay</th>\n",
       "      <th>AppointmentDay</th>\n",
       "      <th>Age</th>\n",
       "      <th>Neighbourhood</th>\n",
       "      <th>Scholarship</th>\n",
       "      <th>Hipertension</th>\n",
       "      <th>Diabetes</th>\n",
       "      <th>Alcoholism</th>\n",
       "      <th>Handcap</th>\n",
       "      <th>SMS_received</th>\n",
       "      <th>No-show</th>\n",
       "    </tr>\n",
       "  </thead>\n",
       "  <tbody>\n",
       "    <tr>\n",
       "      <th>0</th>\n",
       "      <td>2.987250e+13</td>\n",
       "      <td>5642903</td>\n",
       "      <td>F</td>\n",
       "      <td>2016-04-29T18:38:08Z</td>\n",
       "      <td>2016-04-29T00:00:00Z</td>\n",
       "      <td>62</td>\n",
       "      <td>JARDIM DA PENHA</td>\n",
       "      <td>0</td>\n",
       "      <td>1</td>\n",
       "      <td>0</td>\n",
       "      <td>0</td>\n",
       "      <td>0</td>\n",
       "      <td>0</td>\n",
       "      <td>No</td>\n",
       "    </tr>\n",
       "    <tr>\n",
       "      <th>1</th>\n",
       "      <td>5.589980e+14</td>\n",
       "      <td>5642503</td>\n",
       "      <td>M</td>\n",
       "      <td>2016-04-29T16:08:27Z</td>\n",
       "      <td>2016-04-29T00:00:00Z</td>\n",
       "      <td>56</td>\n",
       "      <td>JARDIM DA PENHA</td>\n",
       "      <td>0</td>\n",
       "      <td>0</td>\n",
       "      <td>0</td>\n",
       "      <td>0</td>\n",
       "      <td>0</td>\n",
       "      <td>0</td>\n",
       "      <td>No</td>\n",
       "    </tr>\n",
       "    <tr>\n",
       "      <th>2</th>\n",
       "      <td>4.262960e+12</td>\n",
       "      <td>5642549</td>\n",
       "      <td>F</td>\n",
       "      <td>2016-04-29T16:19:04Z</td>\n",
       "      <td>2016-04-29T00:00:00Z</td>\n",
       "      <td>62</td>\n",
       "      <td>MATA DA PRAIA</td>\n",
       "      <td>0</td>\n",
       "      <td>0</td>\n",
       "      <td>0</td>\n",
       "      <td>0</td>\n",
       "      <td>0</td>\n",
       "      <td>0</td>\n",
       "      <td>No</td>\n",
       "    </tr>\n",
       "    <tr>\n",
       "      <th>3</th>\n",
       "      <td>8.679510e+11</td>\n",
       "      <td>5642828</td>\n",
       "      <td>F</td>\n",
       "      <td>2016-04-29T17:29:31Z</td>\n",
       "      <td>2016-04-29T00:00:00Z</td>\n",
       "      <td>8</td>\n",
       "      <td>PONTAL DE CAMBURI</td>\n",
       "      <td>0</td>\n",
       "      <td>0</td>\n",
       "      <td>0</td>\n",
       "      <td>0</td>\n",
       "      <td>0</td>\n",
       "      <td>0</td>\n",
       "      <td>No</td>\n",
       "    </tr>\n",
       "    <tr>\n",
       "      <th>4</th>\n",
       "      <td>8.841190e+12</td>\n",
       "      <td>5642494</td>\n",
       "      <td>F</td>\n",
       "      <td>2016-04-29T16:07:23Z</td>\n",
       "      <td>2016-04-29T00:00:00Z</td>\n",
       "      <td>56</td>\n",
       "      <td>JARDIM DA PENHA</td>\n",
       "      <td>0</td>\n",
       "      <td>1</td>\n",
       "      <td>1</td>\n",
       "      <td>0</td>\n",
       "      <td>0</td>\n",
       "      <td>0</td>\n",
       "      <td>No</td>\n",
       "    </tr>\n",
       "  </tbody>\n",
       "</table>\n",
       "</div>"
      ],
      "text/plain": [
       "      PatientId  AppointmentID Gender          ScheduledDay  \\\n",
       "0  2.987250e+13        5642903      F  2016-04-29T18:38:08Z   \n",
       "1  5.589980e+14        5642503      M  2016-04-29T16:08:27Z   \n",
       "2  4.262960e+12        5642549      F  2016-04-29T16:19:04Z   \n",
       "3  8.679510e+11        5642828      F  2016-04-29T17:29:31Z   \n",
       "4  8.841190e+12        5642494      F  2016-04-29T16:07:23Z   \n",
       "\n",
       "         AppointmentDay  Age      Neighbourhood  Scholarship  Hipertension  \\\n",
       "0  2016-04-29T00:00:00Z   62    JARDIM DA PENHA            0             1   \n",
       "1  2016-04-29T00:00:00Z   56    JARDIM DA PENHA            0             0   \n",
       "2  2016-04-29T00:00:00Z   62      MATA DA PRAIA            0             0   \n",
       "3  2016-04-29T00:00:00Z    8  PONTAL DE CAMBURI            0             0   \n",
       "4  2016-04-29T00:00:00Z   56    JARDIM DA PENHA            0             1   \n",
       "\n",
       "   Diabetes  Alcoholism  Handcap  SMS_received No-show  \n",
       "0         0           0        0             0      No  \n",
       "1         0           0        0             0      No  \n",
       "2         0           0        0             0      No  \n",
       "3         0           0        0             0      No  \n",
       "4         1           0        0             0      No  "
      ]
     },
     "execution_count": 7,
     "metadata": {},
     "output_type": "execute_result"
    }
   ],
   "source": [
    "df.head()"
   ]
  },
  {
   "cell_type": "code",
   "execution_count": 8,
   "id": "b8cba29c",
   "metadata": {
    "scrolled": false
   },
   "outputs": [
    {
     "data": {
      "text/html": [
       "<div>\n",
       "<style scoped>\n",
       "    .dataframe tbody tr th:only-of-type {\n",
       "        vertical-align: middle;\n",
       "    }\n",
       "\n",
       "    .dataframe tbody tr th {\n",
       "        vertical-align: top;\n",
       "    }\n",
       "\n",
       "    .dataframe thead th {\n",
       "        text-align: right;\n",
       "    }\n",
       "</style>\n",
       "<table border=\"1\" class=\"dataframe\">\n",
       "  <thead>\n",
       "    <tr style=\"text-align: right;\">\n",
       "      <th></th>\n",
       "      <th>PatientId</th>\n",
       "      <th>AppointmentID</th>\n",
       "      <th>Gender</th>\n",
       "      <th>ScheduledDay</th>\n",
       "      <th>AppointmentDay</th>\n",
       "      <th>Age</th>\n",
       "      <th>Neighbourhood</th>\n",
       "      <th>Scholarship</th>\n",
       "      <th>Hipertension</th>\n",
       "      <th>Diabetes</th>\n",
       "      <th>Alcoholism</th>\n",
       "      <th>Handcap</th>\n",
       "      <th>SMS_received</th>\n",
       "      <th>No-show</th>\n",
       "    </tr>\n",
       "  </thead>\n",
       "  <tbody>\n",
       "    <tr>\n",
       "      <th>110522</th>\n",
       "      <td>2.572130e+12</td>\n",
       "      <td>5651768</td>\n",
       "      <td>F</td>\n",
       "      <td>2016-05-03T09:15:35Z</td>\n",
       "      <td>2016-06-07T00:00:00Z</td>\n",
       "      <td>56</td>\n",
       "      <td>MARIA ORTIZ</td>\n",
       "      <td>0</td>\n",
       "      <td>0</td>\n",
       "      <td>0</td>\n",
       "      <td>0</td>\n",
       "      <td>0</td>\n",
       "      <td>1</td>\n",
       "      <td>No</td>\n",
       "    </tr>\n",
       "    <tr>\n",
       "      <th>110523</th>\n",
       "      <td>3.596270e+12</td>\n",
       "      <td>5650093</td>\n",
       "      <td>F</td>\n",
       "      <td>2016-05-03T07:27:33Z</td>\n",
       "      <td>2016-06-07T00:00:00Z</td>\n",
       "      <td>51</td>\n",
       "      <td>MARIA ORTIZ</td>\n",
       "      <td>0</td>\n",
       "      <td>0</td>\n",
       "      <td>0</td>\n",
       "      <td>0</td>\n",
       "      <td>0</td>\n",
       "      <td>1</td>\n",
       "      <td>No</td>\n",
       "    </tr>\n",
       "    <tr>\n",
       "      <th>110524</th>\n",
       "      <td>1.557660e+13</td>\n",
       "      <td>5630692</td>\n",
       "      <td>F</td>\n",
       "      <td>2016-04-27T16:03:52Z</td>\n",
       "      <td>2016-06-07T00:00:00Z</td>\n",
       "      <td>21</td>\n",
       "      <td>MARIA ORTIZ</td>\n",
       "      <td>0</td>\n",
       "      <td>0</td>\n",
       "      <td>0</td>\n",
       "      <td>0</td>\n",
       "      <td>0</td>\n",
       "      <td>1</td>\n",
       "      <td>No</td>\n",
       "    </tr>\n",
       "    <tr>\n",
       "      <th>110525</th>\n",
       "      <td>9.213490e+13</td>\n",
       "      <td>5630323</td>\n",
       "      <td>F</td>\n",
       "      <td>2016-04-27T15:09:23Z</td>\n",
       "      <td>2016-06-07T00:00:00Z</td>\n",
       "      <td>38</td>\n",
       "      <td>MARIA ORTIZ</td>\n",
       "      <td>0</td>\n",
       "      <td>0</td>\n",
       "      <td>0</td>\n",
       "      <td>0</td>\n",
       "      <td>0</td>\n",
       "      <td>1</td>\n",
       "      <td>No</td>\n",
       "    </tr>\n",
       "    <tr>\n",
       "      <th>110526</th>\n",
       "      <td>3.775120e+14</td>\n",
       "      <td>5629448</td>\n",
       "      <td>F</td>\n",
       "      <td>2016-04-27T13:30:56Z</td>\n",
       "      <td>2016-06-07T00:00:00Z</td>\n",
       "      <td>54</td>\n",
       "      <td>MARIA ORTIZ</td>\n",
       "      <td>0</td>\n",
       "      <td>0</td>\n",
       "      <td>0</td>\n",
       "      <td>0</td>\n",
       "      <td>0</td>\n",
       "      <td>1</td>\n",
       "      <td>No</td>\n",
       "    </tr>\n",
       "  </tbody>\n",
       "</table>\n",
       "</div>"
      ],
      "text/plain": [
       "           PatientId  AppointmentID Gender          ScheduledDay  \\\n",
       "110522  2.572130e+12        5651768      F  2016-05-03T09:15:35Z   \n",
       "110523  3.596270e+12        5650093      F  2016-05-03T07:27:33Z   \n",
       "110524  1.557660e+13        5630692      F  2016-04-27T16:03:52Z   \n",
       "110525  9.213490e+13        5630323      F  2016-04-27T15:09:23Z   \n",
       "110526  3.775120e+14        5629448      F  2016-04-27T13:30:56Z   \n",
       "\n",
       "              AppointmentDay  Age Neighbourhood  Scholarship  Hipertension  \\\n",
       "110522  2016-06-07T00:00:00Z   56   MARIA ORTIZ            0             0   \n",
       "110523  2016-06-07T00:00:00Z   51   MARIA ORTIZ            0             0   \n",
       "110524  2016-06-07T00:00:00Z   21   MARIA ORTIZ            0             0   \n",
       "110525  2016-06-07T00:00:00Z   38   MARIA ORTIZ            0             0   \n",
       "110526  2016-06-07T00:00:00Z   54   MARIA ORTIZ            0             0   \n",
       "\n",
       "        Diabetes  Alcoholism  Handcap  SMS_received No-show  \n",
       "110522         0           0        0             1      No  \n",
       "110523         0           0        0             1      No  \n",
       "110524         0           0        0             1      No  \n",
       "110525         0           0        0             1      No  \n",
       "110526         0           0        0             1      No  "
      ]
     },
     "execution_count": 8,
     "metadata": {},
     "output_type": "execute_result"
    }
   ],
   "source": [
    "df.tail()"
   ]
  },
  {
   "cell_type": "code",
   "execution_count": 9,
   "id": "923d6e27",
   "metadata": {
    "scrolled": false
   },
   "outputs": [
    {
     "name": "stdout",
     "output_type": "stream",
     "text": [
      "<class 'pandas.core.frame.DataFrame'>\n",
      "RangeIndex: 110527 entries, 0 to 110526\n",
      "Data columns (total 14 columns):\n",
      " #   Column          Non-Null Count   Dtype  \n",
      "---  ------          --------------   -----  \n",
      " 0   PatientId       110527 non-null  float64\n",
      " 1   AppointmentID   110527 non-null  int64  \n",
      " 2   Gender          110527 non-null  object \n",
      " 3   ScheduledDay    110527 non-null  object \n",
      " 4   AppointmentDay  110527 non-null  object \n",
      " 5   Age             110527 non-null  int64  \n",
      " 6   Neighbourhood   110527 non-null  object \n",
      " 7   Scholarship     110527 non-null  int64  \n",
      " 8   Hipertension    110527 non-null  int64  \n",
      " 9   Diabetes        110527 non-null  int64  \n",
      " 10  Alcoholism      110527 non-null  int64  \n",
      " 11  Handcap         110527 non-null  int64  \n",
      " 12  SMS_received    110527 non-null  int64  \n",
      " 13  No-show         110527 non-null  object \n",
      "dtypes: float64(1), int64(8), object(5)\n",
      "memory usage: 11.8+ MB\n"
     ]
    }
   ],
   "source": [
    "df.info()"
   ]
  },
  {
   "cell_type": "markdown",
   "id": "8a6f916f",
   "metadata": {},
   "source": [
    "We will need to rename the No-show column to avoid possible complications in the code used for further analysis"
   ]
  },
  {
   "cell_type": "code",
   "execution_count": 10,
   "id": "db67e1fa",
   "metadata": {},
   "outputs": [
    {
     "data": {
      "text/html": [
       "<div>\n",
       "<style scoped>\n",
       "    .dataframe tbody tr th:only-of-type {\n",
       "        vertical-align: middle;\n",
       "    }\n",
       "\n",
       "    .dataframe tbody tr th {\n",
       "        vertical-align: top;\n",
       "    }\n",
       "\n",
       "    .dataframe thead th {\n",
       "        text-align: right;\n",
       "    }\n",
       "</style>\n",
       "<table border=\"1\" class=\"dataframe\">\n",
       "  <thead>\n",
       "    <tr style=\"text-align: right;\">\n",
       "      <th></th>\n",
       "      <th>PatientId</th>\n",
       "      <th>AppointmentID</th>\n",
       "      <th>Gender</th>\n",
       "      <th>ScheduledDay</th>\n",
       "      <th>AppointmentDay</th>\n",
       "      <th>Age</th>\n",
       "      <th>Neighbourhood</th>\n",
       "      <th>Scholarship</th>\n",
       "      <th>Hipertension</th>\n",
       "      <th>Diabetes</th>\n",
       "      <th>Alcoholism</th>\n",
       "      <th>Handcap</th>\n",
       "      <th>SMS_received</th>\n",
       "      <th>Noshow</th>\n",
       "    </tr>\n",
       "  </thead>\n",
       "  <tbody>\n",
       "    <tr>\n",
       "      <th>0</th>\n",
       "      <td>2.987250e+13</td>\n",
       "      <td>5642903</td>\n",
       "      <td>F</td>\n",
       "      <td>2016-04-29T18:38:08Z</td>\n",
       "      <td>2016-04-29T00:00:00Z</td>\n",
       "      <td>62</td>\n",
       "      <td>JARDIM DA PENHA</td>\n",
       "      <td>0</td>\n",
       "      <td>1</td>\n",
       "      <td>0</td>\n",
       "      <td>0</td>\n",
       "      <td>0</td>\n",
       "      <td>0</td>\n",
       "      <td>No</td>\n",
       "    </tr>\n",
       "    <tr>\n",
       "      <th>1</th>\n",
       "      <td>5.589980e+14</td>\n",
       "      <td>5642503</td>\n",
       "      <td>M</td>\n",
       "      <td>2016-04-29T16:08:27Z</td>\n",
       "      <td>2016-04-29T00:00:00Z</td>\n",
       "      <td>56</td>\n",
       "      <td>JARDIM DA PENHA</td>\n",
       "      <td>0</td>\n",
       "      <td>0</td>\n",
       "      <td>0</td>\n",
       "      <td>0</td>\n",
       "      <td>0</td>\n",
       "      <td>0</td>\n",
       "      <td>No</td>\n",
       "    </tr>\n",
       "    <tr>\n",
       "      <th>2</th>\n",
       "      <td>4.262960e+12</td>\n",
       "      <td>5642549</td>\n",
       "      <td>F</td>\n",
       "      <td>2016-04-29T16:19:04Z</td>\n",
       "      <td>2016-04-29T00:00:00Z</td>\n",
       "      <td>62</td>\n",
       "      <td>MATA DA PRAIA</td>\n",
       "      <td>0</td>\n",
       "      <td>0</td>\n",
       "      <td>0</td>\n",
       "      <td>0</td>\n",
       "      <td>0</td>\n",
       "      <td>0</td>\n",
       "      <td>No</td>\n",
       "    </tr>\n",
       "    <tr>\n",
       "      <th>3</th>\n",
       "      <td>8.679510e+11</td>\n",
       "      <td>5642828</td>\n",
       "      <td>F</td>\n",
       "      <td>2016-04-29T17:29:31Z</td>\n",
       "      <td>2016-04-29T00:00:00Z</td>\n",
       "      <td>8</td>\n",
       "      <td>PONTAL DE CAMBURI</td>\n",
       "      <td>0</td>\n",
       "      <td>0</td>\n",
       "      <td>0</td>\n",
       "      <td>0</td>\n",
       "      <td>0</td>\n",
       "      <td>0</td>\n",
       "      <td>No</td>\n",
       "    </tr>\n",
       "    <tr>\n",
       "      <th>4</th>\n",
       "      <td>8.841190e+12</td>\n",
       "      <td>5642494</td>\n",
       "      <td>F</td>\n",
       "      <td>2016-04-29T16:07:23Z</td>\n",
       "      <td>2016-04-29T00:00:00Z</td>\n",
       "      <td>56</td>\n",
       "      <td>JARDIM DA PENHA</td>\n",
       "      <td>0</td>\n",
       "      <td>1</td>\n",
       "      <td>1</td>\n",
       "      <td>0</td>\n",
       "      <td>0</td>\n",
       "      <td>0</td>\n",
       "      <td>No</td>\n",
       "    </tr>\n",
       "  </tbody>\n",
       "</table>\n",
       "</div>"
      ],
      "text/plain": [
       "      PatientId  AppointmentID Gender          ScheduledDay  \\\n",
       "0  2.987250e+13        5642903      F  2016-04-29T18:38:08Z   \n",
       "1  5.589980e+14        5642503      M  2016-04-29T16:08:27Z   \n",
       "2  4.262960e+12        5642549      F  2016-04-29T16:19:04Z   \n",
       "3  8.679510e+11        5642828      F  2016-04-29T17:29:31Z   \n",
       "4  8.841190e+12        5642494      F  2016-04-29T16:07:23Z   \n",
       "\n",
       "         AppointmentDay  Age      Neighbourhood  Scholarship  Hipertension  \\\n",
       "0  2016-04-29T00:00:00Z   62    JARDIM DA PENHA            0             1   \n",
       "1  2016-04-29T00:00:00Z   56    JARDIM DA PENHA            0             0   \n",
       "2  2016-04-29T00:00:00Z   62      MATA DA PRAIA            0             0   \n",
       "3  2016-04-29T00:00:00Z    8  PONTAL DE CAMBURI            0             0   \n",
       "4  2016-04-29T00:00:00Z   56    JARDIM DA PENHA            0             1   \n",
       "\n",
       "   Diabetes  Alcoholism  Handcap  SMS_received Noshow  \n",
       "0         0           0        0             0     No  \n",
       "1         0           0        0             0     No  \n",
       "2         0           0        0             0     No  \n",
       "3         0           0        0             0     No  \n",
       "4         1           0        0             0     No  "
      ]
     },
     "execution_count": 10,
     "metadata": {},
     "output_type": "execute_result"
    }
   ],
   "source": [
    "#change No-show column name \n",
    "df.rename(columns = {'No-show' : 'Noshow'}, inplace=True)\n",
    "#check for succesful change of the column name\n",
    "df.head()"
   ]
  },
  {
   "cell_type": "markdown",
   "id": "b1f2e630",
   "metadata": {},
   "source": [
    "EXPLORATORY DATA ANALYSIS"
   ]
  },
  {
   "cell_type": "markdown",
   "id": "8c461e60",
   "metadata": {},
   "source": [
    "QUESTION 1\n",
    "Is appointment attendance dependent on patients' age? \n",
    "If yes, in which age group this dependency is the strongest? \n",
    "\n",
    "We need to check if there is a dependency between unattendance and patient age.\n",
    "First, we will assign patients into four age related groups and we will create a new columnn 'age_groups'.\n",
    "Next step - we analyse the distribution of appointments in each age group and visualise it using pie plot. \n",
    "Finally, we will check the amount of no-show appointment in each age group."
   ]
  },
  {
   "cell_type": "code",
   "execution_count": 11,
   "id": "f4db7796",
   "metadata": {
    "scrolled": false
   },
   "outputs": [
    {
     "data": {
      "text/html": [
       "<div>\n",
       "<style scoped>\n",
       "    .dataframe tbody tr th:only-of-type {\n",
       "        vertical-align: middle;\n",
       "    }\n",
       "\n",
       "    .dataframe tbody tr th {\n",
       "        vertical-align: top;\n",
       "    }\n",
       "\n",
       "    .dataframe thead th {\n",
       "        text-align: right;\n",
       "    }\n",
       "</style>\n",
       "<table border=\"1\" class=\"dataframe\">\n",
       "  <thead>\n",
       "    <tr style=\"text-align: right;\">\n",
       "      <th></th>\n",
       "      <th>PatientId</th>\n",
       "      <th>AppointmentID</th>\n",
       "      <th>Age</th>\n",
       "      <th>Scholarship</th>\n",
       "      <th>Hipertension</th>\n",
       "      <th>Diabetes</th>\n",
       "      <th>Alcoholism</th>\n",
       "      <th>Handcap</th>\n",
       "      <th>SMS_received</th>\n",
       "    </tr>\n",
       "  </thead>\n",
       "  <tbody>\n",
       "    <tr>\n",
       "      <th>count</th>\n",
       "      <td>1.105270e+05</td>\n",
       "      <td>1.105270e+05</td>\n",
       "      <td>110527.000000</td>\n",
       "      <td>110527.000000</td>\n",
       "      <td>110527.000000</td>\n",
       "      <td>110527.000000</td>\n",
       "      <td>110527.000000</td>\n",
       "      <td>110527.000000</td>\n",
       "      <td>110527.000000</td>\n",
       "    </tr>\n",
       "    <tr>\n",
       "      <th>mean</th>\n",
       "      <td>1.474963e+14</td>\n",
       "      <td>5.675305e+06</td>\n",
       "      <td>37.088874</td>\n",
       "      <td>0.098266</td>\n",
       "      <td>0.197246</td>\n",
       "      <td>0.071865</td>\n",
       "      <td>0.030400</td>\n",
       "      <td>0.022248</td>\n",
       "      <td>0.321026</td>\n",
       "    </tr>\n",
       "    <tr>\n",
       "      <th>std</th>\n",
       "      <td>2.560949e+14</td>\n",
       "      <td>7.129575e+04</td>\n",
       "      <td>23.110205</td>\n",
       "      <td>0.297675</td>\n",
       "      <td>0.397921</td>\n",
       "      <td>0.258265</td>\n",
       "      <td>0.171686</td>\n",
       "      <td>0.161543</td>\n",
       "      <td>0.466873</td>\n",
       "    </tr>\n",
       "    <tr>\n",
       "      <th>min</th>\n",
       "      <td>3.920000e+04</td>\n",
       "      <td>5.030230e+06</td>\n",
       "      <td>-1.000000</td>\n",
       "      <td>0.000000</td>\n",
       "      <td>0.000000</td>\n",
       "      <td>0.000000</td>\n",
       "      <td>0.000000</td>\n",
       "      <td>0.000000</td>\n",
       "      <td>0.000000</td>\n",
       "    </tr>\n",
       "    <tr>\n",
       "      <th>25%</th>\n",
       "      <td>4.172615e+12</td>\n",
       "      <td>5.640286e+06</td>\n",
       "      <td>18.000000</td>\n",
       "      <td>0.000000</td>\n",
       "      <td>0.000000</td>\n",
       "      <td>0.000000</td>\n",
       "      <td>0.000000</td>\n",
       "      <td>0.000000</td>\n",
       "      <td>0.000000</td>\n",
       "    </tr>\n",
       "    <tr>\n",
       "      <th>50%</th>\n",
       "      <td>3.173180e+13</td>\n",
       "      <td>5.680573e+06</td>\n",
       "      <td>37.000000</td>\n",
       "      <td>0.000000</td>\n",
       "      <td>0.000000</td>\n",
       "      <td>0.000000</td>\n",
       "      <td>0.000000</td>\n",
       "      <td>0.000000</td>\n",
       "      <td>0.000000</td>\n",
       "    </tr>\n",
       "    <tr>\n",
       "      <th>75%</th>\n",
       "      <td>9.439170e+13</td>\n",
       "      <td>5.725524e+06</td>\n",
       "      <td>55.000000</td>\n",
       "      <td>0.000000</td>\n",
       "      <td>0.000000</td>\n",
       "      <td>0.000000</td>\n",
       "      <td>0.000000</td>\n",
       "      <td>0.000000</td>\n",
       "      <td>1.000000</td>\n",
       "    </tr>\n",
       "    <tr>\n",
       "      <th>max</th>\n",
       "      <td>9.999820e+14</td>\n",
       "      <td>5.790484e+06</td>\n",
       "      <td>115.000000</td>\n",
       "      <td>1.000000</td>\n",
       "      <td>1.000000</td>\n",
       "      <td>1.000000</td>\n",
       "      <td>1.000000</td>\n",
       "      <td>4.000000</td>\n",
       "      <td>1.000000</td>\n",
       "    </tr>\n",
       "  </tbody>\n",
       "</table>\n",
       "</div>"
      ],
      "text/plain": [
       "          PatientId  AppointmentID            Age    Scholarship  \\\n",
       "count  1.105270e+05   1.105270e+05  110527.000000  110527.000000   \n",
       "mean   1.474963e+14   5.675305e+06      37.088874       0.098266   \n",
       "std    2.560949e+14   7.129575e+04      23.110205       0.297675   \n",
       "min    3.920000e+04   5.030230e+06      -1.000000       0.000000   \n",
       "25%    4.172615e+12   5.640286e+06      18.000000       0.000000   \n",
       "50%    3.173180e+13   5.680573e+06      37.000000       0.000000   \n",
       "75%    9.439170e+13   5.725524e+06      55.000000       0.000000   \n",
       "max    9.999820e+14   5.790484e+06     115.000000       1.000000   \n",
       "\n",
       "        Hipertension       Diabetes     Alcoholism        Handcap  \\\n",
       "count  110527.000000  110527.000000  110527.000000  110527.000000   \n",
       "mean        0.197246       0.071865       0.030400       0.022248   \n",
       "std         0.397921       0.258265       0.171686       0.161543   \n",
       "min         0.000000       0.000000       0.000000       0.000000   \n",
       "25%         0.000000       0.000000       0.000000       0.000000   \n",
       "50%         0.000000       0.000000       0.000000       0.000000   \n",
       "75%         0.000000       0.000000       0.000000       0.000000   \n",
       "max         1.000000       1.000000       1.000000       4.000000   \n",
       "\n",
       "        SMS_received  \n",
       "count  110527.000000  \n",
       "mean        0.321026  \n",
       "std         0.466873  \n",
       "min         0.000000  \n",
       "25%         0.000000  \n",
       "50%         0.000000  \n",
       "75%         1.000000  \n",
       "max         1.000000  "
      ]
     },
     "execution_count": 11,
     "metadata": {},
     "output_type": "execute_result"
    }
   ],
   "source": [
    "# View the min, 25%, 50%, 75%, max Age column values for establishing age groups' marking points.\n",
    "df.describe()"
   ]
  },
  {
   "cell_type": "markdown",
   "id": "673a5eae",
   "metadata": {},
   "source": [
    "\n",
    "The maximum age is 115 - we will not correct it as it is possible (in real world, we would consult it with the data provider)\n",
    "There is below 0 value as a minimum value in 'Age' column. It is impossible - so incorrect. We need to check how many below zero values we have in this column.\n"
   ]
  },
  {
   "cell_type": "code",
   "execution_count": 12,
   "id": "53d7a78f",
   "metadata": {
    "scrolled": true
   },
   "outputs": [
    {
     "data": {
      "text/html": [
       "<div>\n",
       "<style scoped>\n",
       "    .dataframe tbody tr th:only-of-type {\n",
       "        vertical-align: middle;\n",
       "    }\n",
       "\n",
       "    .dataframe tbody tr th {\n",
       "        vertical-align: top;\n",
       "    }\n",
       "\n",
       "    .dataframe thead th {\n",
       "        text-align: right;\n",
       "    }\n",
       "</style>\n",
       "<table border=\"1\" class=\"dataframe\">\n",
       "  <thead>\n",
       "    <tr style=\"text-align: right;\">\n",
       "      <th></th>\n",
       "      <th>PatientId</th>\n",
       "      <th>AppointmentID</th>\n",
       "      <th>Gender</th>\n",
       "      <th>ScheduledDay</th>\n",
       "      <th>AppointmentDay</th>\n",
       "      <th>Age</th>\n",
       "      <th>Neighbourhood</th>\n",
       "      <th>Scholarship</th>\n",
       "      <th>Hipertension</th>\n",
       "      <th>Diabetes</th>\n",
       "      <th>Alcoholism</th>\n",
       "      <th>Handcap</th>\n",
       "      <th>SMS_received</th>\n",
       "      <th>Noshow</th>\n",
       "    </tr>\n",
       "  </thead>\n",
       "  <tbody>\n",
       "    <tr>\n",
       "      <th>99832</th>\n",
       "      <td>4.659430e+14</td>\n",
       "      <td>5775010</td>\n",
       "      <td>F</td>\n",
       "      <td>2016-06-06T08:58:13Z</td>\n",
       "      <td>2016-06-06T00:00:00Z</td>\n",
       "      <td>-1</td>\n",
       "      <td>ROMÃO</td>\n",
       "      <td>0</td>\n",
       "      <td>0</td>\n",
       "      <td>0</td>\n",
       "      <td>0</td>\n",
       "      <td>0</td>\n",
       "      <td>0</td>\n",
       "      <td>No</td>\n",
       "    </tr>\n",
       "  </tbody>\n",
       "</table>\n",
       "</div>"
      ],
      "text/plain": [
       "          PatientId  AppointmentID Gender          ScheduledDay  \\\n",
       "99832  4.659430e+14        5775010      F  2016-06-06T08:58:13Z   \n",
       "\n",
       "             AppointmentDay  Age Neighbourhood  Scholarship  Hipertension  \\\n",
       "99832  2016-06-06T00:00:00Z   -1         ROMÃO            0             0   \n",
       "\n",
       "       Diabetes  Alcoholism  Handcap  SMS_received Noshow  \n",
       "99832         0           0        0             0     No  "
      ]
     },
     "execution_count": 12,
     "metadata": {},
     "output_type": "execute_result"
    }
   ],
   "source": [
    "#check for values below 0 in Age column\n",
    "df[df.Age<0]"
   ]
  },
  {
   "cell_type": "markdown",
   "id": "7b26af56",
   "metadata": {},
   "source": [
    "As it is only one record, in this case we will ignore it (using drop)"
   ]
  },
  {
   "cell_type": "code",
   "execution_count": 13,
   "id": "4cab75be",
   "metadata": {},
   "outputs": [],
   "source": [
    "#correct Age column values where values are lower than 0)\n",
    "df.drop(df[df['Age']<0].index, inplace=True)"
   ]
  },
  {
   "cell_type": "code",
   "execution_count": 14,
   "id": "c323f246",
   "metadata": {},
   "outputs": [
    {
     "data": {
      "text/html": [
       "<div>\n",
       "<style scoped>\n",
       "    .dataframe tbody tr th:only-of-type {\n",
       "        vertical-align: middle;\n",
       "    }\n",
       "\n",
       "    .dataframe tbody tr th {\n",
       "        vertical-align: top;\n",
       "    }\n",
       "\n",
       "    .dataframe thead th {\n",
       "        text-align: right;\n",
       "    }\n",
       "</style>\n",
       "<table border=\"1\" class=\"dataframe\">\n",
       "  <thead>\n",
       "    <tr style=\"text-align: right;\">\n",
       "      <th></th>\n",
       "      <th>PatientId</th>\n",
       "      <th>AppointmentID</th>\n",
       "      <th>Gender</th>\n",
       "      <th>ScheduledDay</th>\n",
       "      <th>AppointmentDay</th>\n",
       "      <th>Age</th>\n",
       "      <th>Neighbourhood</th>\n",
       "      <th>Scholarship</th>\n",
       "      <th>Hipertension</th>\n",
       "      <th>Diabetes</th>\n",
       "      <th>Alcoholism</th>\n",
       "      <th>Handcap</th>\n",
       "      <th>SMS_received</th>\n",
       "      <th>Noshow</th>\n",
       "    </tr>\n",
       "  </thead>\n",
       "  <tbody>\n",
       "  </tbody>\n",
       "</table>\n",
       "</div>"
      ],
      "text/plain": [
       "Empty DataFrame\n",
       "Columns: [PatientId, AppointmentID, Gender, ScheduledDay, AppointmentDay, Age, Neighbourhood, Scholarship, Hipertension, Diabetes, Alcoholism, Handcap, SMS_received, Noshow]\n",
       "Index: []"
      ]
     },
     "execution_count": 14,
     "metadata": {},
     "output_type": "execute_result"
    }
   ],
   "source": [
    "#check again for values below 0 in Age column in corrected dataframe\n",
    "df[df.Age<0]"
   ]
  },
  {
   "cell_type": "code",
   "execution_count": 15,
   "id": "7c191b61",
   "metadata": {},
   "outputs": [
    {
     "data": {
      "text/plain": [
       "No     88207\n",
       "Yes    22319\n",
       "Name: Noshow, dtype: int64"
      ]
     },
     "execution_count": 15,
     "metadata": {},
     "output_type": "execute_result"
    }
   ],
   "source": [
    "#count the number of no-show and show-up appointments in Noshow column\n",
    "df['Noshow'].value_counts()"
   ]
  },
  {
   "cell_type": "code",
   "execution_count": 16,
   "id": "e164340e",
   "metadata": {},
   "outputs": [
    {
     "data": {
      "text/plain": [
       "0.20193438647919945"
      ]
     },
     "execution_count": 16,
     "metadata": {},
     "output_type": "execute_result"
    }
   ],
   "source": [
    "#count a percentage that no-shows make of total number of appoinments\n",
    "df['Noshow'].value_counts(normalize=True)['Yes']"
   ]
  },
  {
   "cell_type": "code",
   "execution_count": 17,
   "id": "5c98a1b0",
   "metadata": {},
   "outputs": [
    {
     "data": {
      "text/plain": [
       "0.7980656135208005"
      ]
     },
     "execution_count": 17,
     "metadata": {},
     "output_type": "execute_result"
    }
   ],
   "source": [
    "#count a percentage that show-ups make of total numebr of appointments\n",
    "df['Noshow'].value_counts(normalize=True)['No']"
   ]
  },
  {
   "cell_type": "code",
   "execution_count": 18,
   "id": "574b2c60",
   "metadata": {},
   "outputs": [],
   "source": [
    "# Prepare for creating the new column 'age_groups':\n",
    "# Based on the information we have from df.describe() we can prepare bin edges that will \n",
    "# be used to \"cut\" the data into age groups. \n",
    "bin_edges=[0, 18.0, 37.0, 55.0, 115.0]"
   ]
  },
  {
   "cell_type": "code",
   "execution_count": 19,
   "id": "a71c6225",
   "metadata": {},
   "outputs": [],
   "source": [
    "# Labels for the four age groups\n",
    "bin_names=['under 19', '19-37', '38-55', '56 and over']"
   ]
  },
  {
   "cell_type": "code",
   "execution_count": 20,
   "id": "636801c4",
   "metadata": {},
   "outputs": [],
   "source": [
    "# Create age_groups column\n",
    "df['age_groups'] = pd.cut(df['Age'], bin_edges, labels=bin_names)"
   ]
  },
  {
   "cell_type": "code",
   "execution_count": 21,
   "id": "4fc278b5",
   "metadata": {},
   "outputs": [
    {
     "data": {
      "text/html": [
       "<div>\n",
       "<style scoped>\n",
       "    .dataframe tbody tr th:only-of-type {\n",
       "        vertical-align: middle;\n",
       "    }\n",
       "\n",
       "    .dataframe tbody tr th {\n",
       "        vertical-align: top;\n",
       "    }\n",
       "\n",
       "    .dataframe thead th {\n",
       "        text-align: right;\n",
       "    }\n",
       "</style>\n",
       "<table border=\"1\" class=\"dataframe\">\n",
       "  <thead>\n",
       "    <tr style=\"text-align: right;\">\n",
       "      <th></th>\n",
       "      <th>PatientId</th>\n",
       "      <th>AppointmentID</th>\n",
       "      <th>Gender</th>\n",
       "      <th>ScheduledDay</th>\n",
       "      <th>AppointmentDay</th>\n",
       "      <th>Age</th>\n",
       "      <th>Neighbourhood</th>\n",
       "      <th>Scholarship</th>\n",
       "      <th>Hipertension</th>\n",
       "      <th>Diabetes</th>\n",
       "      <th>Alcoholism</th>\n",
       "      <th>Handcap</th>\n",
       "      <th>SMS_received</th>\n",
       "      <th>Noshow</th>\n",
       "      <th>age_groups</th>\n",
       "    </tr>\n",
       "  </thead>\n",
       "  <tbody>\n",
       "    <tr>\n",
       "      <th>0</th>\n",
       "      <td>2.987250e+13</td>\n",
       "      <td>5642903</td>\n",
       "      <td>F</td>\n",
       "      <td>2016-04-29T18:38:08Z</td>\n",
       "      <td>2016-04-29T00:00:00Z</td>\n",
       "      <td>62</td>\n",
       "      <td>JARDIM DA PENHA</td>\n",
       "      <td>0</td>\n",
       "      <td>1</td>\n",
       "      <td>0</td>\n",
       "      <td>0</td>\n",
       "      <td>0</td>\n",
       "      <td>0</td>\n",
       "      <td>No</td>\n",
       "      <td>56 and over</td>\n",
       "    </tr>\n",
       "    <tr>\n",
       "      <th>1</th>\n",
       "      <td>5.589980e+14</td>\n",
       "      <td>5642503</td>\n",
       "      <td>M</td>\n",
       "      <td>2016-04-29T16:08:27Z</td>\n",
       "      <td>2016-04-29T00:00:00Z</td>\n",
       "      <td>56</td>\n",
       "      <td>JARDIM DA PENHA</td>\n",
       "      <td>0</td>\n",
       "      <td>0</td>\n",
       "      <td>0</td>\n",
       "      <td>0</td>\n",
       "      <td>0</td>\n",
       "      <td>0</td>\n",
       "      <td>No</td>\n",
       "      <td>56 and over</td>\n",
       "    </tr>\n",
       "    <tr>\n",
       "      <th>2</th>\n",
       "      <td>4.262960e+12</td>\n",
       "      <td>5642549</td>\n",
       "      <td>F</td>\n",
       "      <td>2016-04-29T16:19:04Z</td>\n",
       "      <td>2016-04-29T00:00:00Z</td>\n",
       "      <td>62</td>\n",
       "      <td>MATA DA PRAIA</td>\n",
       "      <td>0</td>\n",
       "      <td>0</td>\n",
       "      <td>0</td>\n",
       "      <td>0</td>\n",
       "      <td>0</td>\n",
       "      <td>0</td>\n",
       "      <td>No</td>\n",
       "      <td>56 and over</td>\n",
       "    </tr>\n",
       "    <tr>\n",
       "      <th>3</th>\n",
       "      <td>8.679510e+11</td>\n",
       "      <td>5642828</td>\n",
       "      <td>F</td>\n",
       "      <td>2016-04-29T17:29:31Z</td>\n",
       "      <td>2016-04-29T00:00:00Z</td>\n",
       "      <td>8</td>\n",
       "      <td>PONTAL DE CAMBURI</td>\n",
       "      <td>0</td>\n",
       "      <td>0</td>\n",
       "      <td>0</td>\n",
       "      <td>0</td>\n",
       "      <td>0</td>\n",
       "      <td>0</td>\n",
       "      <td>No</td>\n",
       "      <td>under 19</td>\n",
       "    </tr>\n",
       "    <tr>\n",
       "      <th>4</th>\n",
       "      <td>8.841190e+12</td>\n",
       "      <td>5642494</td>\n",
       "      <td>F</td>\n",
       "      <td>2016-04-29T16:07:23Z</td>\n",
       "      <td>2016-04-29T00:00:00Z</td>\n",
       "      <td>56</td>\n",
       "      <td>JARDIM DA PENHA</td>\n",
       "      <td>0</td>\n",
       "      <td>1</td>\n",
       "      <td>1</td>\n",
       "      <td>0</td>\n",
       "      <td>0</td>\n",
       "      <td>0</td>\n",
       "      <td>No</td>\n",
       "      <td>56 and over</td>\n",
       "    </tr>\n",
       "  </tbody>\n",
       "</table>\n",
       "</div>"
      ],
      "text/plain": [
       "      PatientId  AppointmentID Gender          ScheduledDay  \\\n",
       "0  2.987250e+13        5642903      F  2016-04-29T18:38:08Z   \n",
       "1  5.589980e+14        5642503      M  2016-04-29T16:08:27Z   \n",
       "2  4.262960e+12        5642549      F  2016-04-29T16:19:04Z   \n",
       "3  8.679510e+11        5642828      F  2016-04-29T17:29:31Z   \n",
       "4  8.841190e+12        5642494      F  2016-04-29T16:07:23Z   \n",
       "\n",
       "         AppointmentDay  Age      Neighbourhood  Scholarship  Hipertension  \\\n",
       "0  2016-04-29T00:00:00Z   62    JARDIM DA PENHA            0             1   \n",
       "1  2016-04-29T00:00:00Z   56    JARDIM DA PENHA            0             0   \n",
       "2  2016-04-29T00:00:00Z   62      MATA DA PRAIA            0             0   \n",
       "3  2016-04-29T00:00:00Z    8  PONTAL DE CAMBURI            0             0   \n",
       "4  2016-04-29T00:00:00Z   56    JARDIM DA PENHA            0             1   \n",
       "\n",
       "   Diabetes  Alcoholism  Handcap  SMS_received Noshow   age_groups  \n",
       "0         0           0        0             0     No  56 and over  \n",
       "1         0           0        0             0     No  56 and over  \n",
       "2         0           0        0             0     No  56 and over  \n",
       "3         0           0        0             0     No     under 19  \n",
       "4         1           0        0             0     No  56 and over  "
      ]
     },
     "execution_count": 21,
     "metadata": {},
     "output_type": "execute_result"
    }
   ],
   "source": [
    "# Check for successful creation of this column\n",
    "df.head()"
   ]
  },
  {
   "cell_type": "code",
   "execution_count": 22,
   "id": "538d7eb6",
   "metadata": {},
   "outputs": [],
   "source": [
    "#count the amount of appoinments in each patients' age group\n",
    "df_age = df.groupby(['age_groups']).count()['AppointmentID']\n"
   ]
  },
  {
   "cell_type": "code",
   "execution_count": 23,
   "id": "fe0ea2f3",
   "metadata": {
    "scrolled": true
   },
   "outputs": [
    {
     "name": "stdout",
     "output_type": "stream",
     "text": [
      "age_groups\n",
      "under 19       25327\n",
      "19-37          27250\n",
      "38-55          26906\n",
      "56 and over    27504\n",
      "Name: AppointmentID, dtype: int64\n"
     ]
    }
   ],
   "source": [
    "print(df_age)"
   ]
  },
  {
   "cell_type": "code",
   "execution_count": 24,
   "id": "2ba555b1",
   "metadata": {
    "scrolled": true
   },
   "outputs": [
    {
     "data": {
      "text/plain": [
       "<AxesSubplot:ylabel='AppointmentID'>"
      ]
     },
     "execution_count": 24,
     "metadata": {},
     "output_type": "execute_result"
    },
    {
     "data": {
      "image/png": "[encoded data removed]",
      "text/plain": [
       "<Figure size 432x432 with 1 Axes>"
      ]
     },
     "metadata": {},
     "output_type": "display_data"
    }
   ],
   "source": [
    "#numbers seem balanced. Pie chart should visualise it well.\n",
    "df_age.plot(kind='pie', figsize= (6,6))"
   ]
  },
  {
   "cell_type": "markdown",
   "id": "e177c483",
   "metadata": {},
   "source": [
    "Lets confirm the balance with the more detailed bar chart:"
   ]
  },
  {
   "cell_type": "code",
   "execution_count": 25,
   "id": "0c7bad3a",
   "metadata": {},
   "outputs": [
    {
     "data": {
      "image/png": "[encoded data removed]",
      "text/plain": [
       "<Figure size 648x432 with 1 Axes>"
      ]
     },
     "metadata": {
      "needs_background": "light"
     },
     "output_type": "display_data"
    }
   ],
   "source": [
    "labels = ['under 19', '19-37', '38-55', '56 and over']\n",
    "heights = [25327, 27250, 26906, 27504]\n",
    "x = np.arange(len(labels))  # the label locations\n",
    "width = 0.35  # the width of the bars\n",
    "\n",
    "fig, ax = plt.subplots(figsize=(9,6))\n",
    "rects1 = ax.bar(x - width/20, heights, width, label='Exact Number', color='steelblue')\n",
    "\n",
    "# Add some text for labels, title and custom x-axis tick labels, etc.\n",
    "ax.set_xlabel('Age Groups')\n",
    "ax.set_ylabel('Number of Appointments')\n",
    "\n",
    "ax.set_title('Total Number of Appointments in Age Groups')\n",
    "ax.set_xticks(x)\n",
    "ax.set_xticklabels(labels)\n",
    "ax.legend()\n",
    "\n",
    "def autolabel(rects1):\n",
    "    \"\"\"Attach a text label above each bar in *rects*, displaying its height.\"\"\"\n",
    "    for rect in rects1:\n",
    "        height = rect.get_height()\n",
    "        ax.annotate('{}'.format(height),\n",
    "                    xy=(rect.get_x() + rect.get_width() / 2, height),\n",
    "                    xytext=(0, 3),  # 3 points vertical offset\n",
    "                    textcoords=\"offset points\",\n",
    "                    ha='center', va='bottom')\n",
    "\n",
    "\n",
    "autolabel(rects1)\n",
    "\n",
    "fig.tight_layout()\n",
    "\n",
    "plt.show()"
   ]
  },
  {
   "cell_type": "markdown",
   "id": "f39eaf7d",
   "metadata": {},
   "source": [
    "We can see from the bar chart above that the amount of appointments booked in each age group is above 25000 and is relatively similar (with the slightly lower amount of appoinments in the youngest patients group).\n",
    "\n",
    "Now we will check if there is a dependency between patients' age and the appointments' attendance."
   ]
  },
  {
   "cell_type": "code",
   "execution_count": 26,
   "id": "b120cee0",
   "metadata": {
    "scrolled": true
   },
   "outputs": [
    {
     "data": {
      "text/plain": [
       "22319"
      ]
     },
     "execution_count": 26,
     "metadata": {},
     "output_type": "execute_result"
    }
   ],
   "source": [
    "#remind for number of no-show appointments only\n",
    "df['Noshow'].value_counts()['Yes']"
   ]
  },
  {
   "cell_type": "code",
   "execution_count": 27,
   "id": "4c575bc2",
   "metadata": {},
   "outputs": [
    {
     "name": "stdout",
     "output_type": "stream",
     "text": [
      "age_groups\n",
      "under 19       25327\n",
      "19-37          27250\n",
      "38-55          26906\n",
      "56 and over    27504\n",
      "Name: Noshow, dtype: int64\n"
     ]
    }
   ],
   "source": [
    "#counts the total number of appoinments in each patients' age group\n",
    "df_age_appointments = df.groupby(['age_groups']).count()['Noshow']\n",
    "print(df_age_appointments)"
   ]
  },
  {
   "cell_type": "code",
   "execution_count": 28,
   "id": "dcad5ba9",
   "metadata": {
    "scrolled": false
   },
   "outputs": [
    {
     "name": "stdout",
     "output_type": "stream",
     "text": [
      "age_groups\n",
      "under 19       5708\n",
      "19-37          6414\n",
      "38-55          5255\n",
      "56 and over    4303\n",
      "Name: Noshow, dtype: int64\n"
     ]
    }
   ],
   "source": [
    "#counts the amount of no-show appoinments in each patients' age group\n",
    "df_age_noshow = df[df.Noshow=='Yes'].groupby(['age_groups']).count()['Noshow']\n",
    "print(df_age_noshow)"
   ]
  },
  {
   "cell_type": "code",
   "execution_count": 29,
   "id": "5c29a07e",
   "metadata": {
    "scrolled": false
   },
   "outputs": [
    {
     "name": "stdout",
     "output_type": "stream",
     "text": [
      "age_groups\n",
      "under 19       19619\n",
      "19-37          20836\n",
      "38-55          21651\n",
      "56 and over    23201\n",
      "Name: Noshow, dtype: int64\n"
     ]
    }
   ],
   "source": [
    "#counts the amount of show up appoinments in each patients' age group\n",
    "df_age_show = df[df.Noshow=='No'].groupby(['age_groups']).count()['Noshow']\n",
    "print(df_age_show)"
   ]
  },
  {
   "cell_type": "markdown",
   "id": "a225b13c",
   "metadata": {},
   "source": [
    "Let's visualise the proportion between the number of show-up and no-show appoinments in each age group. We will use grouped bar to do so:"
   ]
  },
  {
   "cell_type": "code",
   "execution_count": 30,
   "id": "95309d82",
   "metadata": {},
   "outputs": [
    {
     "data": {
      "image/png": "[encoded data removed]",
      "text/plain": [
       "<Figure size 576x360 with 1 Axes>"
      ]
     },
     "metadata": {
      "needs_background": "light"
     },
     "output_type": "display_data"
    }
   ],
   "source": [
    "labels = ['under 19', '19-37', '38-55', '56 and over']\n",
    "no_show = [5708, 6414, 5255, 4303]\n",
    "show_up = [19619, 20836, 21651, 23201]\n",
    "x = np.arange(len(labels))  # the label locations\n",
    "width = 0.35  # the width of the bars\n",
    "\n",
    "fig, ax = plt.subplots(figsize=(8,5))\n",
    "rects1 = ax.bar(x - width/2, no_show, width, label='No-Show', color= 'c')\n",
    "rects2 = ax.bar(x + width/2, show_up, width, label='Show-Up', color= 'g')\n",
    "\n",
    "# Add some text for labels, title and custom x-axis tick labels, etc.\n",
    "ax.set_xlabel('Age Groups')\n",
    "ax.set_ylabel('Number of Appointments')\n",
    "\n",
    "ax.set_title('Number of No-Show and Show-Up Appointments in Age Groups')\n",
    "ax.set_xticks(x)\n",
    "ax.set_xticklabels(labels)\n",
    "ax.legend()\n",
    "\n",
    "\n",
    "def autolabel(rects):\n",
    "    \"\"\"Attach a text label above each bar in *rects*, displaying its height.\"\"\"\n",
    "    for rect in rects:\n",
    "        height = rect.get_height()\n",
    "        ax.annotate('{}'.format(height),\n",
    "                    xy=(rect.get_x() + rect.get_width() / 2, height),\n",
    "                    xytext=(0, 3),  # 3 points vertical offset\n",
    "                    textcoords=\"offset points\",\n",
    "                    ha='center', va='bottom')\n",
    "\n",
    "\n",
    "autolabel(rects1)\n",
    "autolabel(rects2)\n",
    "\n",
    "fig.tight_layout()\n",
    "\n",
    "plt.show()"
   ]
  },
  {
   "cell_type": "markdown",
   "id": "983e8f8d",
   "metadata": {},
   "source": [
    "The results might be more clear if we will show the percentage of appoinments in each age group rather then raw numbers:\n"
   ]
  },
  {
   "cell_type": "code",
   "execution_count": 31,
   "id": "c5603077",
   "metadata": {},
   "outputs": [
    {
     "data": {
      "text/plain": [
       "0.20193438647919945"
      ]
     },
     "execution_count": 31,
     "metadata": {},
     "output_type": "execute_result"
    }
   ],
   "source": [
    "#remind percentage of noshow visits again \n",
    "#pct = df['Noshow'].value_counts()['Yes'] / df.shape[0]*100\n",
    "#print(pct)\n",
    "df['Noshow'].value_counts(normalize=True)['Yes']"
   ]
  },
  {
   "cell_type": "code",
   "execution_count": 32,
   "id": "b989705d",
   "metadata": {
    "scrolled": true
   },
   "outputs": [
    {
     "name": "stdout",
     "output_type": "stream",
     "text": [
      "age_groups\n",
      "under 19       22.537213\n",
      "19-37          23.537615\n",
      "38-55          19.530960\n",
      "56 and over    15.644997\n",
      "Name: Noshow, dtype: float64\n"
     ]
    }
   ],
   "source": [
    "#count percentage of no-show visits for each age group\n",
    "df_percentage_noshow = 100*df_age_noshow/df_age_appointments\n",
    "print(df_percentage_noshow)\n",
    "#print(df.percentage_noshow[0])\n",
    "#print(df.percentage_noshow[1])"
   ]
  },
  {
   "cell_type": "code",
   "execution_count": 33,
   "id": "293aeee1",
   "metadata": {
    "scrolled": false
   },
   "outputs": [
    {
     "name": "stdout",
     "output_type": "stream",
     "text": [
      "age_groups\n",
      "under 19       77.462787\n",
      "19-37          76.462385\n",
      "38-55          80.469040\n",
      "56 and over    84.355003\n",
      "Name: Noshow, dtype: float64\n"
     ]
    }
   ],
   "source": [
    "#count percentage of show up visits for each age group\n",
    "df_percentage_show = 100*df_age_show/df_age_appointments\n",
    "print(df_percentage_show)"
   ]
  },
  {
   "cell_type": "markdown",
   "id": "ea0f4e99",
   "metadata": {},
   "source": [
    "Percantages visualisation:"
   ]
  },
  {
   "cell_type": "code",
   "execution_count": 35,
   "id": "97b9ae50",
   "metadata": {
    "scrolled": false
   },
   "outputs": [
    {
     "data": {
      "image/png": "[encoded data removed]",
      "text/plain": [
       "<Figure size 720x576 with 1 Axes>"
      ]
     },
     "metadata": {
      "needs_background": "light"
     },
     "output_type": "display_data"
    }
   ],
   "source": [
    "labels = ['under 19', '19-37', '38-55', '56 and over']\n",
    "#percentage of no-show and show-up appoinments separately for each age group \n",
    "pct_no_show = [22.54, 23.54, 19.53, 15.64]\n",
    "pct_show_up = [77.46, 76.46, 80.47, 84.36]\n",
    "\n",
    "x = np.arange(len(labels))  # the label locations\n",
    "width = 0.35  # the width of the bars\n",
    "\n",
    "fig, ax = plt.subplots(figsize=(10,8))\n",
    "rects1 = ax.bar(x - width/2, pct_no_show, width, label='% No-Show', color= 'y')\n",
    "rects2 = ax.bar(x + width/2, pct_show_up, width, label='% Show-Up', color= 'grey')\n",
    "\n",
    "# Add some text for labels, title and custom x-axis tick labels, etc.\n",
    "ax.set_xlabel('Age Groups')\n",
    "ax.set_ylabel('Percentage of Appointments')\n",
    "\n",
    "ax.set_title('Percentage of No-Show and Show-Up Appointments for Each Age Group')\n",
    "ax.set_xticks(x)\n",
    "ax.set_xticklabels(labels)\n",
    "ax.legend()\n",
    "\n",
    "\n",
    "def autolabel(rects):\n",
    "    \"\"\"Attach a text label above each bar in *rects*, displaying its height.\"\"\"\n",
    "    \n",
    "    for rect in rects:\n",
    "\n",
    "        height = rect.get_height()\n",
    "        ax.annotate('{}'.format(height),\n",
    "                    xy=(rect.get_x() + rect.get_width() / 2, height),\n",
    "                    xytext=(0, 3),  # 3 points vertical offset\n",
    "                    textcoords=\"offset points\",\n",
    "                    ha='center', va='bottom')\n",
    "\n",
    "\n",
    "autolabel(rects1)\n",
    "autolabel(rects2)\n",
    "\n",
    "fig.tight_layout()\n",
    "\n",
    "plt.show()"
   ]
  },
  {
   "cell_type": "markdown",
   "id": "87a0d8e9",
   "metadata": {},
   "source": [
    "\n",
    "Results:\n",
    "We counted that no-show visits make around 20% of total amount of appointments.   \n",
    "We can see that:\n",
    "-in the two groups of younger patients there is a higher percentage of no-show appointments. \n",
    " with the highest no-show ratio in the age group 19-37.\n",
    "-in age group 56 and over, the difference between no-show and show-up is the most significant.\n",
    " there is the lowest percentage of no-show appointments. \n",
    "-in the two older groups, there is a noticable decrease of no-show visits (in comparison to younger groups).   \n",
    " \n"
   ]
  },
  {
   "cell_type": "markdown",
   "id": "9cdc622d",
   "metadata": {},
   "source": [
    "QUESTION 2\n",
    "Is there a link between message received / not received and not showing up for the appointment?\n",
    "\n",
    "We want to know if sms receivement can increase attendance, especially in younger age groups.\n",
    "First, we will check if receiving an sms message is connected with higher attendance (in total, in all age groups, in the lowest and highest result groups). "
   ]
  },
  {
   "cell_type": "code",
   "execution_count": 34,
   "id": "5cda917e",
   "metadata": {},
   "outputs": [
    {
     "name": "stdout",
     "output_type": "stream",
     "text": [
      "0    75044\n",
      "1    35482\n",
      "Name: SMS_received, dtype: int64\n"
     ]
    }
   ],
   "source": [
    "#count number of patients who did and did not receive the sms before visit\n",
    "total_SMS = df['SMS_received'].value_counts()\n",
    "print(total_SMS)"
   ]
  },
  {
   "cell_type": "code",
   "execution_count": 35,
   "id": "c5c12262",
   "metadata": {
    "scrolled": true
   },
   "outputs": [
    {
     "name": "stdout",
     "output_type": "stream",
     "text": [
      "0    0.678971\n",
      "1    0.321029\n",
      "Name: SMS_received, dtype: float64\n"
     ]
    }
   ],
   "source": [
    "#count percentage of patients who did and did not receive the sms before visit\n",
    "#pct_SMS = df['SMS_received'].value_counts()/ df.shape[0]*100\n",
    "#print(pct_SMS)\n",
    "pct_SMS = df['SMS_received'].value_counts(normalize=True)\n",
    "print(pct_SMS)"
   ]
  },
  {
   "cell_type": "markdown",
   "id": "4a30007e",
   "metadata": {},
   "source": [
    "A significant number of patients (over 67% of patients) did not received an sms before their visit. \n",
    "For no-show appointments, we will check how many patients in each age group received an sms. "
   ]
  },
  {
   "cell_type": "code",
   "execution_count": 36,
   "id": "a6400210",
   "metadata": {
    "scrolled": true
   },
   "outputs": [
    {
     "name": "stdout",
     "output_type": "stream",
     "text": [
      "age_groups   SMS_received\n",
      "under 19     0               3341\n",
      "             1               2367\n",
      "19-37        0               3290\n",
      "             1               3124\n",
      "38-55        0               2901\n",
      "             1               2354\n",
      "56 and over  0               2580\n",
      "             1               1723\n",
      "Name: Noshow, dtype: int64\n"
     ]
    }
   ],
   "source": [
    "#counts the amount of no-show appoinments in each patients' age group, along with information about sms message receivement\n",
    "df_age_noshow_sms = df[df.Noshow=='Yes'].groupby(['age_groups', 'SMS_received']).count()['Noshow']\n",
    "print(df_age_noshow_sms)"
   ]
  },
  {
   "cell_type": "code",
   "execution_count": 37,
   "id": "100498b4",
   "metadata": {
    "scrolled": true
   },
   "outputs": [
    {
     "name": "stdout",
     "output_type": "stream",
     "text": [
      "age_groups   SMS_received\n",
      "under 19     0               14434\n",
      "             1                5185\n",
      "19-37        0               14642\n",
      "             1                6194\n",
      "38-55        0               15007\n",
      "             1                6644\n",
      "56 and over  0               16207\n",
      "             1                6994\n",
      "Name: Noshow, dtype: int64\n"
     ]
    }
   ],
   "source": [
    "#counts the amount of show-up appoinments in each patients' age group, along with information about sms message receivement\n",
    "df_age_noshow_sms = df[df.Noshow=='No'].groupby(['age_groups', 'SMS_received']).count()['Noshow']\n",
    "print(df_age_noshow_sms)"
   ]
  },
  {
   "cell_type": "code",
   "execution_count": 38,
   "id": "2feb14f3",
   "metadata": {
    "scrolled": false
   },
   "outputs": [
    {
     "data": {
      "image/png": "[encoded data removed]",
      "text/plain": [
       "<Figure size 720x504 with 1 Axes>"
      ]
     },
     "metadata": {
      "needs_background": "light"
     },
     "output_type": "display_data"
    }
   ],
   "source": [
    "labels = ['under 19', '19-37', '38-55', '56 and over']\n",
    "#number of patients in  each age group who didn't received sms along with info about appointment attendance\n",
    "\n",
    "show_up_nosms = [14434, 14642, 15007, 16207]\n",
    "\n",
    "no_show_nosms = [3341, 3290, 2901, 2580]\n",
    "\n",
    "x = np.arange(len(labels))  # the label locations\n",
    "width = 0.35  # the width of the bars\n",
    "\n",
    "fig, ax = plt.subplots(figsize=(10,7))\n",
    "rects1 = ax.bar(x - width/2, show_up_nosms, width, label='Show-Up', color= 'steelblue')\n",
    "rects2 = ax.bar(x + width/2, no_show_nosms, width, label='No-Show', color= 'lightblue')\n",
    "\n",
    "# Add some text for labels, title and custom x-axis tick labels, etc.\n",
    "ax.set_xlabel('Age Groups')\n",
    "ax.set_ylabel('Number of Patients Who Did Not Receive SMS')\n",
    "\n",
    "ax.set_title(\"Attendace Balance for Patients Who Didn't Receive SMS Before Visit, Grouped by Age\")\n",
    "ax.set_xticks(x)\n",
    "ax.set_xticklabels(labels)\n",
    "ax.legend()\n",
    "\n",
    "\n",
    "def autolabel(rects):\n",
    "    \"\"\"Attach a text label above each bar in *rects*, displaying its height.\"\"\"\n",
    "    \n",
    "    for rect in rects:\n",
    "\n",
    "        height = rect.get_height()\n",
    "        ax.annotate('{}'.format(height),\n",
    "                    xy=(rect.get_x() + rect.get_width() / 2, height),\n",
    "                    xytext=(0, 3),  # 3 points vertical offset\n",
    "                    textcoords=\"offset points\",\n",
    "                    ha='center', va='bottom')\n",
    "\n",
    "\n",
    "autolabel(rects1)\n",
    "autolabel(rects2)\n",
    "\n",
    "fig.tight_layout()\n",
    "\n",
    "plt.show()"
   ]
  },
  {
   "cell_type": "markdown",
   "id": "3cad24d4",
   "metadata": {},
   "source": [
    "Patients who didn't receive an sms before vistit are still very likely to attend the visit. \n",
    "\n",
    "\n",
    "Lets check this by visualising  appointment attendance balance for patients who received the sms: "
   ]
  },
  {
   "cell_type": "code",
   "execution_count": 39,
   "id": "8857a614",
   "metadata": {},
   "outputs": [
    {
     "data": {
      "image/png": "[encoded data removed]",
      "text/plain": [
       "<Figure size 720x504 with 1 Axes>"
      ]
     },
     "metadata": {
      "needs_background": "light"
     },
     "output_type": "display_data"
    }
   ],
   "source": [
    "labels = ['under 19', '19-37', '38-55', '56 and over']\n",
    "#number of patients in  each age group who did receive an sms along with info about appointment attendance\n",
    "\n",
    "show_up_yessms = [2367, 3124, 2354, 1723]\n",
    "\n",
    "no_show_yessms = [5185, 6194, 6644, 6994]\n",
    "\n",
    "x = np.arange(len(labels))  # the label locations\n",
    "width = 0.35  # the width of the bars\n",
    "\n",
    "fig, ax = plt.subplots(figsize=(10,7))\n",
    "rects1 = ax.bar(x - width/2, show_up_yessms, width, label='Show-Up', color= 'lightgreen')\n",
    "rects2 = ax.bar(x + width/2, no_show_yessms, width, label='No-Show', color= 'green')\n",
    "\n",
    "# Add some text for labels, title and custom x-axis tick labels, etc.\n",
    "ax.set_xlabel('Age Groups')\n",
    "ax.set_ylabel('Number of Patients Who Did Receive SMS')\n",
    "\n",
    "ax.set_title(\"Attendace Balance for Patients Who Did Receive SMS Before Visit, Grouped by Age\")\n",
    "ax.set_xticks(x)\n",
    "ax.set_xticklabels(labels)\n",
    "ax.legend()\n",
    "\n",
    "\n",
    "def autolabel(rects):\n",
    "    \"\"\"Attach a text label above each bar in *rects*, displaying its height.\"\"\"\n",
    "    \n",
    "    for rect in rects:\n",
    "\n",
    "        height = rect.get_height()\n",
    "        ax.annotate('{}'.format(height),\n",
    "                    xy=(rect.get_x() + rect.get_width() / 2, height),\n",
    "                    xytext=(0, 3),  # 3 points vertical offset\n",
    "                    textcoords=\"offset points\",\n",
    "                    ha='center', va='bottom')\n",
    "\n",
    "\n",
    "autolabel(rects1)\n",
    "autolabel(rects2)\n",
    "\n",
    "fig.tight_layout()\n",
    "\n",
    "plt.show()"
   ]
  },
  {
   "cell_type": "markdown",
   "id": "eb58881e",
   "metadata": {},
   "source": [
    "In each age group sms receivement does not have a significant impact on attendance. Or in other words: it might have an impact bu it is not a decisive factor.\n",
    "\n",
    "In the age group of 19-37 number of patients who received sms and show-up for an appointment is relatively higher. As we know from previous analysis, 19-37 group has the highest number of unattended visits. It looks like sms might be helping in this age group.\n",
    "\n",
    "Let's try to analyze further to see the impact of the sms messages in different age groups."
   ]
  },
  {
   "cell_type": "markdown",
   "id": "a23977bc",
   "metadata": {},
   "source": [
    "Lets see this results from the different angle:"
   ]
  },
  {
   "cell_type": "code",
   "execution_count": 40,
   "id": "aa339462",
   "metadata": {},
   "outputs": [
    {
     "name": "stdout",
     "output_type": "stream",
     "text": [
      "age_groups\n",
      "under 19       3341\n",
      "19-37          3290\n",
      "38-55          2901\n",
      "56 and over    2580\n",
      "Name: Noshow, dtype: int64\n"
     ]
    }
   ],
   "source": [
    "#show only count the amount of no-show appoinments in age groups, only for patients who didn't receive an sms message\n",
    "df_age_noshow_nosms = df.query('Noshow==\"Yes\" & SMS_received==0').groupby(['age_groups']).count()['Noshow']\n",
    "print(df_age_noshow_nosms)"
   ]
  },
  {
   "cell_type": "code",
   "execution_count": 41,
   "id": "c8db16fe",
   "metadata": {},
   "outputs": [
    {
     "name": "stdout",
     "output_type": "stream",
     "text": [
      "age_groups\n",
      "under 19       58.531885\n",
      "19-37          51.294044\n",
      "38-55          55.204567\n",
      "56 and over    59.958169\n",
      "Name: Noshow, dtype: float64\n"
     ]
    }
   ],
   "source": [
    "#count percentage of no-show visits for each age group when sms has not been received \n",
    "df_percentage_noshow_nosms = df_age_noshow_nosms/ df_age_noshow*100\n",
    "print(df_percentage_noshow_nosms)"
   ]
  },
  {
   "cell_type": "code",
   "execution_count": 42,
   "id": "669fd0fb",
   "metadata": {
    "scrolled": true
   },
   "outputs": [
    {
     "name": "stdout",
     "output_type": "stream",
     "text": [
      "age_groups\n",
      "under 19       2367\n",
      "19-37          3124\n",
      "38-55          2354\n",
      "56 and over    1723\n",
      "Name: Noshow, dtype: int64\n"
     ]
    }
   ],
   "source": [
    "#show only count the amount of no-show appoinments in age groups, only for patients who did receive an sms message\n",
    "df_age_noshow_yessms = df.query('Noshow==\"Yes\" & SMS_received==1').groupby(['age_groups']).count()['Noshow']\n",
    "print(df_age_noshow_yessms)"
   ]
  },
  {
   "cell_type": "code",
   "execution_count": 43,
   "id": "60759bbb",
   "metadata": {
    "scrolled": true
   },
   "outputs": [
    {
     "name": "stdout",
     "output_type": "stream",
     "text": [
      "age_groups\n",
      "under 19       41.468115\n",
      "19-37          48.705956\n",
      "38-55          44.795433\n",
      "56 and over    40.041831\n",
      "Name: Noshow, dtype: float64\n"
     ]
    }
   ],
   "source": [
    "#count percentage of no-show visits for each age group when sms has been received \n",
    "df_percentage_noshow_yessms = df_age_noshow_yessms/df_age_noshow*100\n",
    "print(df_percentage_noshow_yessms)"
   ]
  },
  {
   "cell_type": "code",
   "execution_count": 44,
   "id": "c1245bfa",
   "metadata": {
    "scrolled": false
   },
   "outputs": [
    {
     "data": {
      "image/png": "[encoded data removed]",
      "text/plain": [
       "<Figure size 720x504 with 1 Axes>"
      ]
     },
     "metadata": {
      "needs_background": "light"
     },
     "output_type": "display_data"
    }
   ],
   "source": [
    "#age group labels\n",
    "labels = ['under 19', '19-37', '38-55', '56 and over']\n",
    "\n",
    "#percentage no-show appoinments separately for each age group along with an info about sms receivement\n",
    "noshow_nosms = [58.53, 51.29, 55.21, 59.96]\n",
    "noshow_yessms = [41.47, 48.71, 44.80, 40.04]\n",
    "\n",
    "x = np.arange(len(labels))  # the label locations\n",
    "width = 0.35  # the width of the bars\n",
    "\n",
    "fig, ax = plt.subplots(figsize=(10,7))\n",
    "rects1 = ax.bar(x - width/2, noshow_nosms, width, label='% No-SMS', color= 'steelblue')\n",
    "rects2 = ax.bar(x + width/2, noshow_yessms, width, label='% Yes - SMS', color= 'lightblue')\n",
    "\n",
    "# Add some text for labels, title and custom x-axis tick labels, etc.\n",
    "ax.set_xlabel('Age Groups')\n",
    "ax.set_ylabel('% No-show Visits')\n",
    "\n",
    "ax.set_title(\"Sms Receivement Balance (in %) for Patients Who Didn't Show Up, Grouped by Age\")\n",
    "ax.set_xticks(x)\n",
    "ax.set_xticklabels(labels)\n",
    "ax.legend()\n",
    "\n",
    "\n",
    "def autolabel(rects):\n",
    "    \"\"\"Attach a text label above each bar in *rects*, displaying its height.\"\"\"\n",
    "    \n",
    "    for rect in rects:\n",
    "\n",
    "        height = rect.get_height()\n",
    "        ax.annotate('{}'.format(height),\n",
    "                    xy=(rect.get_x() + rect.get_width() / 2, height),\n",
    "                    xytext=(0, 3),  # 3 points vertical offset\n",
    "                    textcoords=\"offset points\",\n",
    "                    ha='center', va='bottom')\n",
    "\n",
    "\n",
    "autolabel(rects1)\n",
    "autolabel(rects2)\n",
    "\n",
    "fig.tight_layout()\n",
    "\n",
    "plt.show()"
   ]
  },
  {
   "cell_type": "markdown",
   "id": "d49352b1",
   "metadata": {},
   "source": [
    "Combining the results for Question 2\n",
    "\n",
    "We can see that there is potential correlation. Looking at all \"no-show\" cases, there is higher amount of patients who did not received sms. Such balance is visible in all age groups with wider difference in two groups (below 19 and over 56) \n",
    "\n",
    "It might be interesting field for further research if sending the sms twice could further improve the attendance?\n",
    "Perhaps sending the sms twice only to youngest group?\n",
    "(as this group has the highest number of unattended visits in total)."
   ]
  },
  {
   "cell_type": "markdown",
   "id": "d4346ac1",
   "metadata": {},
   "source": [
    "\n",
    "QUESTION 3\n",
    "Is there a difference in appointments' attendace for different neighbourhoods. \n",
    "Which neighbourhood has the highest number of ‘no-show-ups’? \n",
    "\n"
   ]
  },
  {
   "cell_type": "code",
   "execution_count": 45,
   "id": "adfe6a98",
   "metadata": {},
   "outputs": [
    {
     "data": {
      "text/plain": [
       "array(['JARDIM DA PENHA', 'MATA DA PRAIA', 'PONTAL DE CAMBURI',\n",
       "       'REPÚBLICA', 'GOIABEIRAS', 'ANDORINHAS', 'CONQUISTA',\n",
       "       'NOVA PALESTINA', 'DA PENHA', 'TABUAZEIRO', 'BENTO FERREIRA',\n",
       "       'SÃO PEDRO', 'SANTA MARTHA', 'SÃO CRISTÓVÃO', 'MARUÍPE',\n",
       "       'GRANDE VITÓRIA', 'SÃO BENEDITO', 'ILHA DAS CAIEIRAS',\n",
       "       'SANTO ANDRÉ', 'SOLON BORGES', 'BONFIM', 'JARDIM CAMBURI',\n",
       "       'MARIA ORTIZ', 'JABOUR', 'ANTÔNIO HONÓRIO', 'RESISTÊNCIA',\n",
       "       'ILHA DE SANTA MARIA', 'JUCUTUQUARA', 'MONTE BELO',\n",
       "       'MÁRIO CYPRESTE', 'SANTO ANTÔNIO', 'BELA VISTA', 'PRAIA DO SUÁ',\n",
       "       'SANTA HELENA', 'ITARARÉ', 'INHANGUETÁ', 'UNIVERSITÁRIO',\n",
       "       'SÃO JOSÉ', 'REDENÇÃO', 'SANTA CLARA', 'CENTRO', 'PARQUE MOSCOSO',\n",
       "       'DO MOSCOSO', 'SANTOS DUMONT', 'CARATOÍRA', 'ARIOVALDO FAVALESSA',\n",
       "       'ILHA DO FRADE', 'GURIGICA', 'JOANA D´ARC', 'CONSOLAÇÃO',\n",
       "       'PRAIA DO CANTO', 'BOA VISTA', 'MORADA DE CAMBURI', 'SANTA LUÍZA',\n",
       "       'SANTA LÚCIA', 'BARRO VERMELHO', 'ESTRELINHA', 'FORTE SÃO JOÃO',\n",
       "       'FONTE GRANDE', 'ENSEADA DO SUÁ', 'SANTOS REIS', 'PIEDADE',\n",
       "       'JESUS DE NAZARETH', 'SANTA TEREZA', 'CRUZAMENTO',\n",
       "       'ILHA DO PRÍNCIPE', 'ROMÃO', 'COMDUSA', 'SANTA CECÍLIA',\n",
       "       'VILA RUBIM', 'DE LOURDES', 'DO QUADRO', 'DO CABRAL', 'HORTO',\n",
       "       'SEGURANÇA DO LAR', 'ILHA DO BOI', 'FRADINHOS', 'NAZARETH',\n",
       "       'AEROPORTO', 'ILHAS OCEÂNICAS DE TRINDADE', 'PARQUE INDUSTRIAL'],\n",
       "      dtype=object)"
      ]
     },
     "execution_count": 45,
     "metadata": {},
     "output_type": "execute_result"
    }
   ],
   "source": [
    "#We want to know if there are big differences in number of visits between neighbourhoods.\n",
    "#check names of neighbourhood areas in our data frame\n",
    "df['Neighbourhood'].unique()"
   ]
  },
  {
   "cell_type": "code",
   "execution_count": 46,
   "id": "37bfc315",
   "metadata": {
    "scrolled": true
   },
   "outputs": [
    {
     "name": "stdout",
     "output_type": "stream",
     "text": [
      "JARDIM CAMBURI                 7717\n",
      "MARIA ORTIZ                    5805\n",
      "RESISTÊNCIA                    4431\n",
      "JARDIM DA PENHA                3877\n",
      "ITARARÉ                        3514\n",
      "                               ... \n",
      "ILHA DO BOI                      35\n",
      "ILHA DO FRADE                    10\n",
      "AEROPORTO                         8\n",
      "ILHAS OCEÂNICAS DE TRINDADE       2\n",
      "PARQUE INDUSTRIAL                 1\n",
      "Name: Neighbourhood, Length: 81, dtype: int64\n"
     ]
    }
   ],
   "source": [
    "#Count how many times each area appears in df\n",
    "area = df['Neighbourhood'].value_counts()\n",
    "print(area)"
   ]
  },
  {
   "cell_type": "code",
   "execution_count": 47,
   "id": "0c56f676",
   "metadata": {
    "scrolled": true
   },
   "outputs": [
    {
     "name": "stdout",
     "output_type": "stream",
     "text": [
      "Neighbourhood\n",
      "AEROPORTO                 8\n",
      "ANDORINHAS             2262\n",
      "ANTÔNIO HONÓRIO         271\n",
      "ARIOVALDO FAVALESSA     282\n",
      "BARRO VERMELHO          423\n",
      "                       ... \n",
      "SÃO JOSÉ               1977\n",
      "SÃO PEDRO              2448\n",
      "TABUAZEIRO             3132\n",
      "UNIVERSITÁRIO           152\n",
      "VILA RUBIM              851\n",
      "Name: AppointmentID, Length: 81, dtype: int64\n"
     ]
    }
   ],
   "source": [
    "#counts the amount of appoinments in each neighbourhood\n",
    "area_visits = df.groupby(['Neighbourhood']).count()['AppointmentID']\n",
    "print(area_visits)"
   ]
  },
  {
   "cell_type": "code",
   "execution_count": 48,
   "id": "89b67163",
   "metadata": {
    "scrolled": true
   },
   "outputs": [
    {
     "name": "stdout",
     "output_type": "stream",
     "text": [
      "Neighbourhood\n",
      "AEROPORTO                1\n",
      "ANDORINHAS             521\n",
      "ANTÔNIO HONÓRIO         50\n",
      "ARIOVALDO FAVALESSA     62\n",
      "BARRO VERMELHO          91\n",
      "                      ... \n",
      "SÃO JOSÉ               428\n",
      "SÃO PEDRO              515\n",
      "TABUAZEIRO             573\n",
      "UNIVERSITÁRIO           32\n",
      "VILA RUBIM             141\n",
      "Name: AppointmentID, Length: 80, dtype: int64\n"
     ]
    }
   ],
   "source": [
    "#check the number of no-show appointments in each neighbourhood \n",
    "area_noshow = df.query('Noshow==\"Yes\"').groupby(['Neighbourhood']).count()['AppointmentID']\n",
    "print(area_noshow)"
   ]
  },
  {
   "cell_type": "code",
   "execution_count": 49,
   "id": "69af847b",
   "metadata": {
    "scrolled": true
   },
   "outputs": [
    {
     "name": "stdout",
     "output_type": "stream",
     "text": [
      "Neighbourhood\n",
      "AEROPORTO              12.500000\n",
      "ANDORINHAS             23.032714\n",
      "ANTÔNIO HONÓRIO        18.450185\n",
      "ARIOVALDO FAVALESSA    21.985816\n",
      "BARRO VERMELHO         21.513002\n",
      "                         ...    \n",
      "SÃO JOSÉ               21.648963\n",
      "SÃO PEDRO              21.037582\n",
      "TABUAZEIRO             18.295019\n",
      "UNIVERSITÁRIO          21.052632\n",
      "VILA RUBIM             16.568743\n",
      "Name: AppointmentID, Length: 81, dtype: float64\n"
     ]
    }
   ],
   "source": [
    "#lets show the above result in percentages\n",
    "pct_area_noshow = 100* area_noshow/area_visits\n",
    "\n",
    "print(pct_area_noshow)"
   ]
  },
  {
   "cell_type": "code",
   "execution_count": 50,
   "id": "03820f4a",
   "metadata": {},
   "outputs": [
    {
     "data": {
      "text/plain": [
       "20.79957228842361"
      ]
     },
     "execution_count": 50,
     "metadata": {},
     "output_type": "execute_result"
    }
   ],
   "source": [
    "#confirm the avarage percentage of unattended appointments for all neighbourhoods\n",
    "pct_area_noshow.mean()"
   ]
  },
  {
   "cell_type": "code",
   "execution_count": 51,
   "id": "eea20b37",
   "metadata": {},
   "outputs": [
    {
     "data": {
      "text/plain": [
       "19.765045263535207"
      ]
     },
     "execution_count": 51,
     "metadata": {},
     "output_type": "execute_result"
    }
   ],
   "source": [
    "#lets use median for more adequate result\n",
    "pct_area_noshow.median()"
   ]
  },
  {
   "cell_type": "code",
   "execution_count": 52,
   "id": "1898c5ae",
   "metadata": {},
   "outputs": [
    {
     "data": {
      "text/plain": [
       "<matplotlib.lines.Line2D at 0x21e91fd4a00>"
      ]
     },
     "execution_count": 52,
     "metadata": {},
     "output_type": "execute_result"
    },
    {
     "data": {
      "image/png": "[encoded data removed]",
      "text/plain": [
       "<Figure size 1440x576 with 1 Axes>"
      ]
     },
     "metadata": {
      "needs_background": "light"
     },
     "output_type": "display_data"
    }
   ],
   "source": [
    "#visualise the above results\n",
    "plt.rcParams['figure.figsize'] = (20, 8)\n",
    "pct_area_noshow.plot(kind='bar', title='% No-show Appointments in Each Neighbourhood', alpha=.7);\n",
    "plt.xlabel('Neighbourhood', fontsize=18)\n",
    "plt.ylabel('% of No-Show Appointments', fontsize=18)\n",
    "#draw median line\n",
    "median = pct_area_noshow.median()\n",
    "plt.axhline(median, color='red', ls='dotted')"
   ]
  },
  {
   "cell_type": "markdown",
   "id": "06ee5d50",
   "metadata": {},
   "source": [
    "Most of the results for area's no-show appoinments are in range 14-26. \n",
    "It is oscilating around median (19.8) or average (20.8) - and in Layman's terms we will aknowledge them as \"average\".\n",
    "\n",
    "Next, let's concentrate on no-show visits which are significantly below or above \"average\".\n",
    "Based on the chart - we can clearly see 4 areas show significanly different no\n",
    "\n",
    "Let's start with listng the number of no-show visits in the chosen areas."
   ]
  },
  {
   "cell_type": "code",
   "execution_count": 53,
   "id": "4720567b",
   "metadata": {
    "scrolled": true
   },
   "outputs": [
    {
     "data": {
      "text/plain": [
       "pandas.core.series.Series"
      ]
     },
     "execution_count": 53,
     "metadata": {},
     "output_type": "execute_result"
    }
   ],
   "source": [
    "#check for type of pct_area_noshow\n",
    "type(pct_area_noshow)"
   ]
  },
  {
   "cell_type": "code",
   "execution_count": 54,
   "id": "b34801d9",
   "metadata": {},
   "outputs": [
    {
     "name": "stdout",
     "output_type": "stream",
     "text": [
      "[1, 3, 2, None]\n"
     ]
    }
   ],
   "source": [
    "#We will make a list of results with number of noshow visits siginificantly below or above average.\n",
    "r_1 = area_noshow.get(key = 'AEROPORTO')\n",
    "r_2 = area_noshow.get(key = 'ILHA DO BOI')\n",
    "r_3 = area_noshow.get(key = 'ILHAS OCEÂNICAS DE TRINDADE')\n",
    "r_4 = area_noshow.get(key = 'PARQUE INDUSTRIAL')\n",
    "\n",
    "shortlist_area_noshow = [r_1, r_2, r_3, r_4]\n",
    "print(shortlist_area_noshow)"
   ]
  },
  {
   "cell_type": "markdown",
   "id": "d02c5376",
   "metadata": {},
   "source": [
    "First we will count the percentage of no-show visits in selected neighbourhoods. Then we will check the number of vistis in these neighbourhoods and compare them to have a better understanding for further analysis. "
   ]
  },
  {
   "cell_type": "code",
   "execution_count": 55,
   "id": "8f948083",
   "metadata": {},
   "outputs": [
    {
     "name": "stdout",
     "output_type": "stream",
     "text": [
      "[12.5, 8.571428571428571, 100.0, nan]\n"
     ]
    }
   ],
   "source": [
    " # We will make a list of results with percentage of noshow visits siginificantly below or above average.\n",
    "result_1 = pct_area_noshow.get(key = 'AEROPORTO')\n",
    "result_2 = pct_area_noshow.get(key = 'ILHA DO BOI')\n",
    "result_3 = pct_area_noshow.get(key = 'ILHAS OCEÂNICAS DE TRINDADE')\n",
    "result_4 = pct_area_noshow.get(key = 'PARQUE INDUSTRIAL')\n",
    "\n",
    "shortlist_pct_area_noshow = [result_1, result_2, result_3, result_4]\n",
    "print(shortlist_pct_area_noshow)\n",
    "\n"
   ]
  },
  {
   "cell_type": "code",
   "execution_count": 56,
   "id": "28aaf603",
   "metadata": {},
   "outputs": [
    {
     "name": "stdout",
     "output_type": "stream",
     "text": [
      "                 Neighbourhood  Percent of Noshow Visits\n",
      "0                    AEROPORTO                 12.500000\n",
      "1                  ILHA DO BOI                  8.571429\n",
      "2  ILHAS OCEÂNICAS DE TRINDADE                100.000000\n",
      "3            PARQUE INDUSTRIAL                       NaN\n",
      "<class 'pandas.core.frame.DataFrame'>\n"
     ]
    }
   ],
   "source": [
    "#convert data to pd series\n",
    "short_pct_area_noshow = pd.Series(shortlist_pct_area_noshow)\n",
    "neighbourhood = ['AEROPORTO', 'ILHA DO BOI', 'ILHAS OCEÂNICAS DE TRINDADE', 'PARQUE INDUSTRIAL']\n",
    "series_neighbourhood = pd.Series(neighbourhood)\n",
    "\n",
    "#convert data to pd dataframes and change column names\n",
    "df_short_pct_area_noshow = short_pct_area_noshow.to_frame()\n",
    "df_short_pct_area_noshow = df_short_pct_area_noshow.rename(columns = {0:'Percent of Noshow Visits'})\n",
    "\n",
    "df_neighbourhood = pd.DataFrame(series_neighbourhood)\n",
    "df_neighbourhood = df_neighbourhood.rename(columns = {0:'Neighbourhood'})\n",
    "\n",
    "#concat dataframes\n",
    "df_short = pd.concat([df_neighbourhood, df_short_pct_area_noshow], axis=1)\n",
    "print(df_short)\n",
    "print(type(df_short))"
   ]
  },
  {
   "cell_type": "code",
   "execution_count": 57,
   "id": "7251fe3a",
   "metadata": {},
   "outputs": [
    {
     "data": {
      "text/html": [
       "<div>\n",
       "<style scoped>\n",
       "    .dataframe tbody tr th:only-of-type {\n",
       "        vertical-align: middle;\n",
       "    }\n",
       "\n",
       "    .dataframe tbody tr th {\n",
       "        vertical-align: top;\n",
       "    }\n",
       "\n",
       "    .dataframe thead th {\n",
       "        text-align: right;\n",
       "    }\n",
       "</style>\n",
       "<table border=\"1\" class=\"dataframe\">\n",
       "  <thead>\n",
       "    <tr style=\"text-align: right;\">\n",
       "      <th></th>\n",
       "      <th>Neighbourhood</th>\n",
       "      <th>Percent of Noshow Visits</th>\n",
       "    </tr>\n",
       "  </thead>\n",
       "  <tbody>\n",
       "    <tr>\n",
       "      <th>0</th>\n",
       "      <td>AEROPORTO</td>\n",
       "      <td>12.500000</td>\n",
       "    </tr>\n",
       "    <tr>\n",
       "      <th>1</th>\n",
       "      <td>ILHA DO BOI</td>\n",
       "      <td>8.571429</td>\n",
       "    </tr>\n",
       "    <tr>\n",
       "      <th>2</th>\n",
       "      <td>ILHAS OCEÂNICAS DE TRINDADE</td>\n",
       "      <td>100.000000</td>\n",
       "    </tr>\n",
       "    <tr>\n",
       "      <th>3</th>\n",
       "      <td>PARQUE INDUSTRIAL</td>\n",
       "      <td>0.000000</td>\n",
       "    </tr>\n",
       "  </tbody>\n",
       "</table>\n",
       "</div>"
      ],
      "text/plain": [
       "                 Neighbourhood  Percent of Noshow Visits\n",
       "0                    AEROPORTO                 12.500000\n",
       "1                  ILHA DO BOI                  8.571429\n",
       "2  ILHAS OCEÂNICAS DE TRINDADE                100.000000\n",
       "3            PARQUE INDUSTRIAL                  0.000000"
      ]
     },
     "execution_count": 57,
     "metadata": {},
     "output_type": "execute_result"
    }
   ],
   "source": [
    "df_short.fillna(0)"
   ]
  },
  {
   "cell_type": "code",
   "execution_count": 58,
   "id": "635ab079",
   "metadata": {},
   "outputs": [
    {
     "data": {
      "text/plain": [
       "Neighbourhood\n",
       "AEROPORTO                 8\n",
       "ANDORINHAS             2262\n",
       "ANTÔNIO HONÓRIO         271\n",
       "ARIOVALDO FAVALESSA     282\n",
       "BARRO VERMELHO          423\n",
       "                       ... \n",
       "SÃO JOSÉ               1977\n",
       "SÃO PEDRO              2448\n",
       "TABUAZEIRO             3132\n",
       "UNIVERSITÁRIO           152\n",
       "VILA RUBIM              851\n",
       "Name: AppointmentID, Length: 81, dtype: int64"
      ]
     },
     "execution_count": 58,
     "metadata": {},
     "output_type": "execute_result"
    }
   ],
   "source": [
    "# the amount of appoinments in each neighbourhood\n",
    "area_visits"
   ]
  },
  {
   "cell_type": "code",
   "execution_count": 59,
   "id": "71e9d20b",
   "metadata": {
    "scrolled": true
   },
   "outputs": [
    {
     "name": "stdout",
     "output_type": "stream",
     "text": [
      "[8, 35, 2, 1]\n"
     ]
    }
   ],
   "source": [
    "# We will make a list with number of visits where noshow are siginificantly below or above average.\n",
    "area_1 = area_visits.get(key = 'AEROPORTO')\n",
    "area_2 = area_visits.get(key = 'ILHA DO BOI')\n",
    "area_3 = area_visits.get(key = 'ILHAS OCEÂNICAS DE TRINDADE')\n",
    "area_4 = area_visits.get(key = 'PARQUE INDUSTRIAL')\n",
    "\n",
    "shortlist_area_visits = [area_1, area_2, area_3, area_4]\n",
    "print(shortlist_area_visits)"
   ]
  },
  {
   "cell_type": "code",
   "execution_count": 60,
   "id": "2e08c0c1",
   "metadata": {
    "scrolled": false
   },
   "outputs": [
    {
     "name": "stdout",
     "output_type": "stream",
     "text": [
      "                 Neighbourhood  Number_of_Visits\n",
      "0                    AEROPORTO                 8\n",
      "1                  ILHA DO BOI                35\n",
      "2  ILHAS OCEÂNICAS DE TRINDADE                 2\n",
      "3            PARQUE INDUSTRIAL                 1\n"
     ]
    }
   ],
   "source": [
    "short_area_visits = pd.Series(shortlist_area_visits)\n",
    "#convert data to pd dataframes and change column names\n",
    "short_area_visits = short_area_visits.to_frame()\n",
    "df_short_area_visits = short_area_visits.rename(columns = {0:'Number_of_Visits'})\n",
    "\n",
    "\n",
    "#concat dataframes\n",
    "df_short_area_visits = pd.concat([df_neighbourhood, df_short_area_visits], axis=1)\n",
    "\n",
    "print(df_short_area_visits)\n"
   ]
  },
  {
   "cell_type": "code",
   "execution_count": 61,
   "id": "2209cf52",
   "metadata": {
    "scrolled": false
   },
   "outputs": [
    {
     "data": {
      "text/plain": [
       "Text(0, 0.5, 'Number of Appointments')"
      ]
     },
     "execution_count": 61,
     "metadata": {},
     "output_type": "execute_result"
    },
    {
     "data": {
      "image/png": "[encoded data removed]",
      "text/plain": [
       "<Figure size 720x360 with 1 Axes>"
      ]
     },
     "metadata": {
      "needs_background": "light"
     },
     "output_type": "display_data"
    }
   ],
   "source": [
    "#plot total number of visits in chosen neighbourhoods\n",
    "plt.rcParams['figure.figsize'] = (10, 5)\n",
    "df_short_area_visits.plot(kind='bar', title='Number of Appointments in Each Neighbourhood', alpha=.7, color='purple')\n",
    "plt.xlabel('Neighbourhood', fontsize=18)\n",
    "plt.ylabel('Number of Appointments', fontsize=18)\n",
    "#draw median line showing avarage number of appointments in total\n",
    "#median = df['AppointmentID'].median()\n",
    "#plt.axhline(median, color='red', ls='dotted')"
   ]
  },
  {
   "cell_type": "code",
   "execution_count": 62,
   "id": "c263e720",
   "metadata": {},
   "outputs": [
    {
     "name": "stdout",
     "output_type": "stream",
     "text": [
      "0    0.007238\n",
      "1    0.031667\n",
      "2    0.001810\n",
      "3    0.000905\n",
      "Name: Number_of_Visits, dtype: float64\n"
     ]
    }
   ],
   "source": [
    "#check the percentage that the above four neighbourhoods make of total number of visits\n",
    "pct_short_area_visits = 100* df_short_area_visits['Number_of_Visits']/df['AppointmentID'].count()\n",
    "print(pct_short_area_visits)"
   ]
  },
  {
   "cell_type": "code",
   "execution_count": 63,
   "id": "9ca13379",
   "metadata": {},
   "outputs": [
    {
     "name": "stdout",
     "output_type": "stream",
     "text": [
      "                 Neighbourhood  %_of_Noshow_Visits  %Total_Visits\n",
      "0                    AEROPORTO           12.500000       0.007238\n",
      "1                  ILHA DO BOI            8.571429       0.031667\n",
      "2  ILHAS OCEÂNICAS DE TRINDADE          100.000000       0.001810\n",
      "3            PARQUE INDUSTRIAL            0.000000       0.000905\n"
     ]
    }
   ],
   "source": [
    "#convert data to pd series\n",
    "short_pct_area_noshow = pd.Series(shortlist_pct_area_noshow)\n",
    "neighbourhood = ['AEROPORTO', 'ILHA DO BOI', 'ILHAS OCEÂNICAS DE TRINDADE', 'PARQUE INDUSTRIAL']\n",
    "series_neighbourhood = pd.Series(neighbourhood)\n",
    "\n",
    "#convert data to pd dataframes and change column names\n",
    "df_short_pct_area_noshow = short_pct_area_noshow.to_frame()\n",
    "df_short_pct_area_noshow = df_short_pct_area_noshow.rename(columns = {0:'%_of_Noshow_Visits'})\n",
    "\n",
    "df_neighbourhood = pd.DataFrame(series_neighbourhood)\n",
    "df_neighbourhood = df_neighbourhood.rename(columns = {0:'Neighbourhood'})\n",
    "\n",
    "df_pct_short_area_visits = pct_short_area_visits.to_frame()\n",
    "df_pct_short_area_visits = df_pct_short_area_visits.rename(columns = {'Number_of_Visits':'%Total_Visits'})\n",
    "#concat dataframes\n",
    "df_short = pd.concat([df_neighbourhood, df_short_pct_area_noshow, df_pct_short_area_visits], axis=1)\n",
    "#df_short.fillna(0)\n",
    "print(df_short.fillna(0))\n",
    "#print(type(df_short))"
   ]
  },
  {
   "cell_type": "code",
   "execution_count": 64,
   "id": "a47c7b17",
   "metadata": {
    "scrolled": true
   },
   "outputs": [
    {
     "name": "stdout",
     "output_type": "stream",
     "text": [
      "                 Neighbourhood  Number_of_Visits  %_of_Noshow_Visits\n",
      "0                    AEROPORTO                 8           12.500000\n",
      "1                  ILHA DO BOI                35            8.571429\n",
      "2  ILHAS OCEÂNICAS DE TRINDADE                 2          100.000000\n",
      "3            PARQUE INDUSTRIAL                 1            0.000000\n"
     ]
    }
   ],
   "source": [
    "# the above result is not clear. Lets use the total number of visits for each area instead of percentage:\n",
    "df_short_area_visits = df_short_area_visits.rename(columns = {'Number of Visits':'Total_Number_of_Visits'})\n",
    "#concat dataframes\n",
    "df_short_withnum = pd.concat([df_short_area_visits, df_short_pct_area_noshow], axis=1)\n",
    "\n",
    "print(df_short_withnum.fillna(0))\n"
   ]
  },
  {
   "cell_type": "code",
   "execution_count": 65,
   "id": "cd8fbe5a",
   "metadata": {
    "scrolled": false
   },
   "outputs": [
    {
     "data": {
      "image/png": "[encoded data removed]",
      "text/plain": [
       "<Figure size 720x504 with 1 Axes>"
      ]
     },
     "metadata": {
      "needs_background": "light"
     },
     "output_type": "display_data"
    }
   ],
   "source": [
    "#plot with total number of visits (instead of percents) for the selected areas\n",
    "labels = ['AEROPORTO', 'ILHA DO BOI', 'ILHAS OCEÂNICAS DE TRINDADE', 'PARQUE INDUSTRIAL']\n",
    "\n",
    "aarea_number_of_visits = [8, 35, 2, 1]\n",
    "aarea_percent_of_noshow = [12.5, 8.6, 100.0, 0.0]\n",
    "\n",
    "x = np.arange(len(labels))  # the label locations\n",
    "width = 0.35  # the width of the bars\n",
    "\n",
    "fig, ax = plt.subplots(figsize=(10,7))\n",
    "rects1 = ax.bar(x - width/2, aarea_number_of_visits, width, label='number of visits', color= 'lightblue')\n",
    "rects2 = ax.bar(x + width/2, aarea_percent_of_noshow, width, label='% of no-show', color= 'gray')\n",
    "\n",
    "# Add some text for labels, title and custom x-axis tick labels, etc.\n",
    "ax.set_xlabel('Neighbourhood')\n",
    "ax.set_ylabel('Visits')\n",
    "\n",
    "ax.set_title(\"% of No-show visits according to number of visits in areas above/below average\")\n",
    "ax.set_xticks(x)\n",
    "ax.set_xticklabels(labels)\n",
    "ax.legend()\n",
    "\n",
    "\n",
    "def autolabel(rects):\n",
    "    \"\"\"Attach a text label above each bar in *rects*, displaying its height.\"\"\"\n",
    "    \n",
    "    for rect in rects:\n",
    "\n",
    "        height = rect.get_height()\n",
    "        ax.annotate('{}'.format(height),\n",
    "                    xy=(rect.get_x() + rect.get_width() / 2, height),\n",
    "                    xytext=(0, 1),  # 3 points vertical offset\n",
    "                    textcoords=\"offset points\",\n",
    "                    ha='center', va='bottom')\n",
    "\n",
    "\n",
    "autolabel(rects1)\n",
    "autolabel(rects2)\n",
    "\n",
    "fig.tight_layout()\n",
    "\n",
    "plt.show()"
   ]
  },
  {
   "cell_type": "markdown",
   "id": "f11f14b6",
   "metadata": {},
   "source": [
    "The number of visits in selected neighbourhoods is very low. For the further research - in this four areas, it might be reasonable to focus on improving the overall number of appointments made, instead of focusing on no-show visits only. "
   ]
  },
  {
   "cell_type": "markdown",
   "id": "a1ce0d97",
   "metadata": {},
   "source": [
    "It is also worth to check here, what results will give the analysis if we exclude these four extreme results. \n"
   ]
  },
  {
   "cell_type": "code",
   "execution_count": 66,
   "id": "51862169",
   "metadata": {
    "scrolled": true
   },
   "outputs": [
    {
     "data": {
      "text/html": [
       "<div>\n",
       "<style scoped>\n",
       "    .dataframe tbody tr th:only-of-type {\n",
       "        vertical-align: middle;\n",
       "    }\n",
       "\n",
       "    .dataframe tbody tr th {\n",
       "        vertical-align: top;\n",
       "    }\n",
       "\n",
       "    .dataframe thead th {\n",
       "        text-align: right;\n",
       "    }\n",
       "</style>\n",
       "<table border=\"1\" class=\"dataframe\">\n",
       "  <thead>\n",
       "    <tr style=\"text-align: right;\">\n",
       "      <th></th>\n",
       "      <th>AppointmentID</th>\n",
       "    </tr>\n",
       "    <tr>\n",
       "      <th>Neighbourhood</th>\n",
       "      <th></th>\n",
       "    </tr>\n",
       "  </thead>\n",
       "  <tbody>\n",
       "    <tr>\n",
       "      <th>AEROPORTO</th>\n",
       "      <td>12.500000</td>\n",
       "    </tr>\n",
       "    <tr>\n",
       "      <th>ANDORINHAS</th>\n",
       "      <td>23.032714</td>\n",
       "    </tr>\n",
       "    <tr>\n",
       "      <th>ANTÔNIO HONÓRIO</th>\n",
       "      <td>18.450185</td>\n",
       "    </tr>\n",
       "    <tr>\n",
       "      <th>ARIOVALDO FAVALESSA</th>\n",
       "      <td>21.985816</td>\n",
       "    </tr>\n",
       "    <tr>\n",
       "      <th>BARRO VERMELHO</th>\n",
       "      <td>21.513002</td>\n",
       "    </tr>\n",
       "    <tr>\n",
       "      <th>...</th>\n",
       "      <td>...</td>\n",
       "    </tr>\n",
       "    <tr>\n",
       "      <th>SÃO JOSÉ</th>\n",
       "      <td>21.648963</td>\n",
       "    </tr>\n",
       "    <tr>\n",
       "      <th>SÃO PEDRO</th>\n",
       "      <td>21.037582</td>\n",
       "    </tr>\n",
       "    <tr>\n",
       "      <th>TABUAZEIRO</th>\n",
       "      <td>18.295019</td>\n",
       "    </tr>\n",
       "    <tr>\n",
       "      <th>UNIVERSITÁRIO</th>\n",
       "      <td>21.052632</td>\n",
       "    </tr>\n",
       "    <tr>\n",
       "      <th>VILA RUBIM</th>\n",
       "      <td>16.568743</td>\n",
       "    </tr>\n",
       "  </tbody>\n",
       "</table>\n",
       "<p>81 rows × 1 columns</p>\n",
       "</div>"
      ],
      "text/plain": [
       "                     AppointmentID\n",
       "Neighbourhood                     \n",
       "AEROPORTO                12.500000\n",
       "ANDORINHAS               23.032714\n",
       "ANTÔNIO HONÓRIO          18.450185\n",
       "ARIOVALDO FAVALESSA      21.985816\n",
       "BARRO VERMELHO           21.513002\n",
       "...                            ...\n",
       "SÃO JOSÉ                 21.648963\n",
       "SÃO PEDRO                21.037582\n",
       "TABUAZEIRO               18.295019\n",
       "UNIVERSITÁRIO            21.052632\n",
       "VILA RUBIM               16.568743\n",
       "\n",
       "[81 rows x 1 columns]"
      ]
     },
     "execution_count": 66,
     "metadata": {},
     "output_type": "execute_result"
    }
   ],
   "source": [
    "#convert df_pct_area_noshow into dataframe\n",
    "df_pct_area_noshow=pct_area_noshow.to_frame()\n",
    "df_pct_area_noshow"
   ]
  },
  {
   "cell_type": "code",
   "execution_count": 67,
   "id": "4f4b7971",
   "metadata": {
    "scrolled": true
   },
   "outputs": [
    {
     "data": {
      "text/html": [
       "<div>\n",
       "<style scoped>\n",
       "    .dataframe tbody tr th:only-of-type {\n",
       "        vertical-align: middle;\n",
       "    }\n",
       "\n",
       "    .dataframe tbody tr th {\n",
       "        vertical-align: top;\n",
       "    }\n",
       "\n",
       "    .dataframe thead th {\n",
       "        text-align: right;\n",
       "    }\n",
       "</style>\n",
       "<table border=\"1\" class=\"dataframe\">\n",
       "  <thead>\n",
       "    <tr style=\"text-align: right;\">\n",
       "      <th></th>\n",
       "      <th>Neighbourhood</th>\n",
       "      <th>AppointmentID</th>\n",
       "    </tr>\n",
       "  </thead>\n",
       "  <tbody>\n",
       "    <tr>\n",
       "      <th>0</th>\n",
       "      <td>AEROPORTO</td>\n",
       "      <td>12.500000</td>\n",
       "    </tr>\n",
       "    <tr>\n",
       "      <th>1</th>\n",
       "      <td>ANDORINHAS</td>\n",
       "      <td>23.032714</td>\n",
       "    </tr>\n",
       "    <tr>\n",
       "      <th>2</th>\n",
       "      <td>ANTÔNIO HONÓRIO</td>\n",
       "      <td>18.450185</td>\n",
       "    </tr>\n",
       "    <tr>\n",
       "      <th>3</th>\n",
       "      <td>ARIOVALDO FAVALESSA</td>\n",
       "      <td>21.985816</td>\n",
       "    </tr>\n",
       "    <tr>\n",
       "      <th>4</th>\n",
       "      <td>BARRO VERMELHO</td>\n",
       "      <td>21.513002</td>\n",
       "    </tr>\n",
       "    <tr>\n",
       "      <th>...</th>\n",
       "      <td>...</td>\n",
       "      <td>...</td>\n",
       "    </tr>\n",
       "    <tr>\n",
       "      <th>76</th>\n",
       "      <td>SÃO JOSÉ</td>\n",
       "      <td>21.648963</td>\n",
       "    </tr>\n",
       "    <tr>\n",
       "      <th>77</th>\n",
       "      <td>SÃO PEDRO</td>\n",
       "      <td>21.037582</td>\n",
       "    </tr>\n",
       "    <tr>\n",
       "      <th>78</th>\n",
       "      <td>TABUAZEIRO</td>\n",
       "      <td>18.295019</td>\n",
       "    </tr>\n",
       "    <tr>\n",
       "      <th>79</th>\n",
       "      <td>UNIVERSITÁRIO</td>\n",
       "      <td>21.052632</td>\n",
       "    </tr>\n",
       "    <tr>\n",
       "      <th>80</th>\n",
       "      <td>VILA RUBIM</td>\n",
       "      <td>16.568743</td>\n",
       "    </tr>\n",
       "  </tbody>\n",
       "</table>\n",
       "<p>81 rows × 2 columns</p>\n",
       "</div>"
      ],
      "text/plain": [
       "          Neighbourhood  AppointmentID\n",
       "0             AEROPORTO      12.500000\n",
       "1            ANDORINHAS      23.032714\n",
       "2       ANTÔNIO HONÓRIO      18.450185\n",
       "3   ARIOVALDO FAVALESSA      21.985816\n",
       "4        BARRO VERMELHO      21.513002\n",
       "..                  ...            ...\n",
       "76             SÃO JOSÉ      21.648963\n",
       "77            SÃO PEDRO      21.037582\n",
       "78           TABUAZEIRO      18.295019\n",
       "79        UNIVERSITÁRIO      21.052632\n",
       "80           VILA RUBIM      16.568743\n",
       "\n",
       "[81 rows x 2 columns]"
      ]
     },
     "execution_count": 67,
     "metadata": {},
     "output_type": "execute_result"
    }
   ],
   "source": [
    "#reset index to make Neighbourhood column\n",
    "df_pct_area_noshow.reset_index(inplace=True)\n",
    "df_pct_area_noshow"
   ]
  },
  {
   "cell_type": "code",
   "execution_count": 68,
   "id": "3d31f7d2",
   "metadata": {
    "scrolled": true
   },
   "outputs": [
    {
     "data": {
      "text/html": [
       "<div>\n",
       "<style scoped>\n",
       "    .dataframe tbody tr th:only-of-type {\n",
       "        vertical-align: middle;\n",
       "    }\n",
       "\n",
       "    .dataframe tbody tr th {\n",
       "        vertical-align: top;\n",
       "    }\n",
       "\n",
       "    .dataframe thead th {\n",
       "        text-align: right;\n",
       "    }\n",
       "</style>\n",
       "<table border=\"1\" class=\"dataframe\">\n",
       "  <thead>\n",
       "    <tr style=\"text-align: right;\">\n",
       "      <th></th>\n",
       "      <th>Neighbourhood</th>\n",
       "      <th>AppointmentID</th>\n",
       "    </tr>\n",
       "  </thead>\n",
       "  <tbody>\n",
       "    <tr>\n",
       "      <th>1</th>\n",
       "      <td>ANDORINHAS</td>\n",
       "      <td>23.032714</td>\n",
       "    </tr>\n",
       "    <tr>\n",
       "      <th>2</th>\n",
       "      <td>ANTÔNIO HONÓRIO</td>\n",
       "      <td>18.450185</td>\n",
       "    </tr>\n",
       "    <tr>\n",
       "      <th>3</th>\n",
       "      <td>ARIOVALDO FAVALESSA</td>\n",
       "      <td>21.985816</td>\n",
       "    </tr>\n",
       "    <tr>\n",
       "      <th>4</th>\n",
       "      <td>BARRO VERMELHO</td>\n",
       "      <td>21.513002</td>\n",
       "    </tr>\n",
       "    <tr>\n",
       "      <th>5</th>\n",
       "      <td>BELA VISTA</td>\n",
       "      <td>20.136340</td>\n",
       "    </tr>\n",
       "    <tr>\n",
       "      <th>...</th>\n",
       "      <td>...</td>\n",
       "      <td>...</td>\n",
       "    </tr>\n",
       "    <tr>\n",
       "      <th>76</th>\n",
       "      <td>SÃO JOSÉ</td>\n",
       "      <td>21.648963</td>\n",
       "    </tr>\n",
       "    <tr>\n",
       "      <th>77</th>\n",
       "      <td>SÃO PEDRO</td>\n",
       "      <td>21.037582</td>\n",
       "    </tr>\n",
       "    <tr>\n",
       "      <th>78</th>\n",
       "      <td>TABUAZEIRO</td>\n",
       "      <td>18.295019</td>\n",
       "    </tr>\n",
       "    <tr>\n",
       "      <th>79</th>\n",
       "      <td>UNIVERSITÁRIO</td>\n",
       "      <td>21.052632</td>\n",
       "    </tr>\n",
       "    <tr>\n",
       "      <th>80</th>\n",
       "      <td>VILA RUBIM</td>\n",
       "      <td>16.568743</td>\n",
       "    </tr>\n",
       "  </tbody>\n",
       "</table>\n",
       "<p>77 rows × 2 columns</p>\n",
       "</div>"
      ],
      "text/plain": [
       "          Neighbourhood  AppointmentID\n",
       "1            ANDORINHAS      23.032714\n",
       "2       ANTÔNIO HONÓRIO      18.450185\n",
       "3   ARIOVALDO FAVALESSA      21.985816\n",
       "4        BARRO VERMELHO      21.513002\n",
       "5            BELA VISTA      20.136340\n",
       "..                  ...            ...\n",
       "76             SÃO JOSÉ      21.648963\n",
       "77            SÃO PEDRO      21.037582\n",
       "78           TABUAZEIRO      18.295019\n",
       "79        UNIVERSITÁRIO      21.052632\n",
       "80           VILA RUBIM      16.568743\n",
       "\n",
       "[77 rows x 2 columns]"
      ]
     },
     "execution_count": 68,
     "metadata": {},
     "output_type": "execute_result"
    }
   ],
   "source": [
    "#make new df where 4 rows with extreme values are removed\n",
    "df_pct_area_shorter = df_pct_area_noshow.drop(df_pct_area_noshow.index[df_pct_area_noshow['Neighbourhood'].isin(['AEROPORTO','ILHA DO BOI', 'ILHAS OCEÂNICAS DE TRINDADE','PARQUE INDUSTRIAL'])])\n",
    "df_pct_area_shorter"
   ]
  },
  {
   "cell_type": "code",
   "execution_count": 69,
   "id": "6736f98e",
   "metadata": {},
   "outputs": [
    {
     "data": {
      "text/html": [
       "<div>\n",
       "<style scoped>\n",
       "    .dataframe tbody tr th:only-of-type {\n",
       "        vertical-align: middle;\n",
       "    }\n",
       "\n",
       "    .dataframe tbody tr th {\n",
       "        vertical-align: top;\n",
       "    }\n",
       "\n",
       "    .dataframe thead th {\n",
       "        text-align: right;\n",
       "    }\n",
       "</style>\n",
       "<table border=\"1\" class=\"dataframe\">\n",
       "  <thead>\n",
       "    <tr style=\"text-align: right;\">\n",
       "      <th></th>\n",
       "      <th>Neighbourhood</th>\n",
       "      <th>AppointmentID</th>\n",
       "    </tr>\n",
       "  </thead>\n",
       "  <tbody>\n",
       "    <tr>\n",
       "      <th>0</th>\n",
       "      <td>ANDORINHAS</td>\n",
       "      <td>23.032714</td>\n",
       "    </tr>\n",
       "    <tr>\n",
       "      <th>1</th>\n",
       "      <td>ANTÔNIO HONÓRIO</td>\n",
       "      <td>18.450185</td>\n",
       "    </tr>\n",
       "    <tr>\n",
       "      <th>2</th>\n",
       "      <td>ARIOVALDO FAVALESSA</td>\n",
       "      <td>21.985816</td>\n",
       "    </tr>\n",
       "    <tr>\n",
       "      <th>3</th>\n",
       "      <td>BARRO VERMELHO</td>\n",
       "      <td>21.513002</td>\n",
       "    </tr>\n",
       "    <tr>\n",
       "      <th>4</th>\n",
       "      <td>BELA VISTA</td>\n",
       "      <td>20.136340</td>\n",
       "    </tr>\n",
       "    <tr>\n",
       "      <th>...</th>\n",
       "      <td>...</td>\n",
       "      <td>...</td>\n",
       "    </tr>\n",
       "    <tr>\n",
       "      <th>72</th>\n",
       "      <td>SÃO JOSÉ</td>\n",
       "      <td>21.648963</td>\n",
       "    </tr>\n",
       "    <tr>\n",
       "      <th>73</th>\n",
       "      <td>SÃO PEDRO</td>\n",
       "      <td>21.037582</td>\n",
       "    </tr>\n",
       "    <tr>\n",
       "      <th>74</th>\n",
       "      <td>TABUAZEIRO</td>\n",
       "      <td>18.295019</td>\n",
       "    </tr>\n",
       "    <tr>\n",
       "      <th>75</th>\n",
       "      <td>UNIVERSITÁRIO</td>\n",
       "      <td>21.052632</td>\n",
       "    </tr>\n",
       "    <tr>\n",
       "      <th>76</th>\n",
       "      <td>VILA RUBIM</td>\n",
       "      <td>16.568743</td>\n",
       "    </tr>\n",
       "  </tbody>\n",
       "</table>\n",
       "<p>77 rows × 2 columns</p>\n",
       "</div>"
      ],
      "text/plain": [
       "          Neighbourhood  AppointmentID\n",
       "0            ANDORINHAS      23.032714\n",
       "1       ANTÔNIO HONÓRIO      18.450185\n",
       "2   ARIOVALDO FAVALESSA      21.985816\n",
       "3        BARRO VERMELHO      21.513002\n",
       "4            BELA VISTA      20.136340\n",
       "..                  ...            ...\n",
       "72             SÃO JOSÉ      21.648963\n",
       "73            SÃO PEDRO      21.037582\n",
       "74           TABUAZEIRO      18.295019\n",
       "75        UNIVERSITÁRIO      21.052632\n",
       "76           VILA RUBIM      16.568743\n",
       "\n",
       "[77 rows x 2 columns]"
      ]
     },
     "execution_count": 69,
     "metadata": {},
     "output_type": "execute_result"
    }
   ],
   "source": [
    "#df_all.dropna(inplace=True)\n",
    "df_pct_area_shorter.reset_index(drop=True, inplace=True)\n",
    "df_pct_area_shorter"
   ]
  },
  {
   "cell_type": "code",
   "execution_count": 70,
   "id": "3547d053",
   "metadata": {},
   "outputs": [
    {
     "data": {
      "text/plain": [
       "Neighbourhood    0\n",
       "AppointmentID    0\n",
       "dtype: int64"
      ]
     },
     "execution_count": 70,
     "metadata": {},
     "output_type": "execute_result"
    }
   ],
   "source": [
    "df_pct_area_shorter.isnull().sum()"
   ]
  },
  {
   "cell_type": "code",
   "execution_count": 71,
   "id": "6184e1d2",
   "metadata": {},
   "outputs": [
    {
     "data": {
      "text/plain": [
       "19.77124183006536"
      ]
     },
     "execution_count": 71,
     "metadata": {},
     "output_type": "execute_result"
    }
   ],
   "source": [
    "df_pct_area_shorter['AppointmentID'].median()"
   ]
  },
  {
   "cell_type": "code",
   "execution_count": 72,
   "id": "e602999c",
   "metadata": {
    "scrolled": false
   },
   "outputs": [
    {
     "data": {
      "text/plain": [
       "<matplotlib.lines.Line2D at 0x21e9233a190>"
      ]
     },
     "execution_count": 72,
     "metadata": {},
     "output_type": "execute_result"
    },
    {
     "data": {
      "image/png": "[encoded data removed]",
      "text/plain": [
       "<Figure size 1440x576 with 1 Axes>"
      ]
     },
     "metadata": {
      "needs_background": "light"
     },
     "output_type": "display_data"
    }
   ],
   "source": [
    "#visualise the above results\n",
    "plt.rcParams['figure.figsize'] = (20, 8)\n",
    "df_pct_area_shorter.plot(kind='bar', title='% No-show Appointments in Each Neighbourhood Excluding 4 Extremes', alpha=.7);\n",
    "plt.xlabel('Neighbourhood', fontsize=18)\n",
    "plt.ylabel('% of No-Show Appointments', fontsize=18)\n",
    "#ticks = df_pct_area_shorter['Neighbourhood'].unique\n",
    "#plt.xticks(df_pct_area_shorter['Neighbourhood'].unique())\n",
    "#draw median line\n",
    "mmedian = df_pct_area_shorter['AppointmentID'].median()\n",
    "plt.axhline(mmedian, color='red', ls='dotted')"
   ]
  },
  {
   "cell_type": "markdown",
   "id": "03c37386",
   "metadata": {},
   "source": [
    "The above chart didn't show neighbourhoods' names. Lets try to add them:"
   ]
  },
  {
   "cell_type": "code",
   "execution_count": 73,
   "id": "e30b2ee2",
   "metadata": {},
   "outputs": [
    {
     "data": {
      "text/plain": [
       "<matplotlib.lines.Line2D at 0x21e92808910>"
      ]
     },
     "execution_count": 73,
     "metadata": {},
     "output_type": "execute_result"
    },
    {
     "data": {
      "image/png": "[encoded data removed]",
      "text/plain": [
       "<Figure size 1440x576 with 1 Axes>"
      ]
     },
     "metadata": {
      "needs_background": "light"
     },
     "output_type": "display_data"
    }
   ],
   "source": [
    "# plot chart with neighbourhood' names set as xticks\n",
    "df_pct_area_shorter.set_index('Neighbourhood').plot.bar()\n",
    "plt.title('% No-show Appointments in Each Neighbourhood Excluding 4 Extremes')\n",
    "plt.xlabel('Neighbourhood', fontsize=18)\n",
    "plt.ylabel('% of No-Show Appointments', fontsize=18)\n",
    "mmedian = df_pct_area_shorter['AppointmentID'].median()\n",
    "plt.axhline(mmedian, color='red', ls='dotted')"
   ]
  },
  {
   "cell_type": "markdown",
   "id": "410ffd98",
   "metadata": {},
   "source": [
    "The above chart suggests that it might be reasonable to analyse the data further through neighbourhoods' context. There are significant differences between neighbourhoods' appointment attendance. considering that the data covers only ne month, we will leave it as a suggestion for further research over longer period."
   ]
  },
  {
   "cell_type": "markdown",
   "id": "57013680",
   "metadata": {},
   "source": [
    "QUESTION 4\n",
    "Does day of the week of the appointment make a difference in appointments' frequency?\n",
    "\n",
    "We will check how number of appointments fluctuates along the data. First, we need to confirm that our dataframe contains only data for May 2016, as suggested by the csv file title."
   ]
  },
  {
   "cell_type": "code",
   "execution_count": 74,
   "id": "e2f52b06",
   "metadata": {
    "scrolled": false
   },
   "outputs": [
    {
     "name": "stdout",
     "output_type": "stream",
     "text": [
      "<class 'pandas.core.frame.DataFrame'>\n",
      "Int64Index: 110526 entries, 0 to 110526\n",
      "Data columns (total 15 columns):\n",
      " #   Column          Non-Null Count   Dtype              \n",
      "---  ------          --------------   -----              \n",
      " 0   PatientId       110526 non-null  float64            \n",
      " 1   AppointmentID   110526 non-null  int64              \n",
      " 2   Gender          110526 non-null  object             \n",
      " 3   ScheduledDay    110526 non-null  object             \n",
      " 4   AppointmentDay  110526 non-null  datetime64[ns, UTC]\n",
      " 5   Age             110526 non-null  int64              \n",
      " 6   Neighbourhood   110526 non-null  object             \n",
      " 7   Scholarship     110526 non-null  int64              \n",
      " 8   Hipertension    110526 non-null  int64              \n",
      " 9   Diabetes        110526 non-null  int64              \n",
      " 10  Alcoholism      110526 non-null  int64              \n",
      " 11  Handcap         110526 non-null  int64              \n",
      " 12  SMS_received    110526 non-null  int64              \n",
      " 13  Noshow          110526 non-null  object             \n",
      " 14  age_groups      106987 non-null  category           \n",
      "dtypes: category(1), datetime64[ns, UTC](1), float64(1), int64(8), object(4)\n",
      "memory usage: 12.8+ MB\n"
     ]
    }
   ],
   "source": [
    "# as we checked at the very beginning of this analysis, our AppointmentDay column type is an object \n",
    "# we want to convert the AppointmentDay column to datetime format\n",
    "df['AppointmentDay']= pd.to_datetime(df['AppointmentDay'])\n",
    "#check if AppointmentDay Dtype is successfuly converted into datetime\n",
    "df.info()"
   ]
  },
  {
   "cell_type": "markdown",
   "id": "8dc550a2",
   "metadata": {},
   "source": [
    "Now, lets confirm for which period of time exactly we have the data"
   ]
  },
  {
   "cell_type": "code",
   "execution_count": 75,
   "id": "123c68a1",
   "metadata": {},
   "outputs": [
    {
     "data": {
      "text/plain": [
       "Timestamp('2016-04-29 00:00:00+0000', tz='UTC')"
      ]
     },
     "execution_count": 75,
     "metadata": {},
     "output_type": "execute_result"
    }
   ],
   "source": [
    "min(df['AppointmentDay'])"
   ]
  },
  {
   "cell_type": "code",
   "execution_count": 76,
   "id": "c0753c9f",
   "metadata": {},
   "outputs": [
    {
     "data": {
      "text/plain": [
       "Timestamp('2016-06-08 00:00:00+0000', tz='UTC')"
      ]
     },
     "execution_count": 76,
     "metadata": {},
     "output_type": "execute_result"
    }
   ],
   "source": [
    "max(df['AppointmentDay'])"
   ]
  },
  {
   "cell_type": "markdown",
   "id": "1d52eb6c",
   "metadata": {},
   "source": [
    "We have data for 29/04/2016 - 08/06/2016, what is a little bit more than a month May - but still, analysing appointments' frequency  based on such short period of time would not be reasonable. \n",
    "However, we can try to check which day of the week has the lowest visits' number in this period of time.\n",
    "We will check if there is a difference and, on this base, answer the question how the timetable might be adjust to serve the needs better."
   ]
  },
  {
   "cell_type": "code",
   "execution_count": 78,
   "id": "36a50818",
   "metadata": {},
   "outputs": [
    {
     "data": {
      "text/html": [
       "<div>\n",
       "<style scoped>\n",
       "    .dataframe tbody tr th:only-of-type {\n",
       "        vertical-align: middle;\n",
       "    }\n",
       "\n",
       "    .dataframe tbody tr th {\n",
       "        vertical-align: top;\n",
       "    }\n",
       "\n",
       "    .dataframe thead th {\n",
       "        text-align: right;\n",
       "    }\n",
       "</style>\n",
       "<table border=\"1\" class=\"dataframe\">\n",
       "  <thead>\n",
       "    <tr style=\"text-align: right;\">\n",
       "      <th></th>\n",
       "      <th>PatientId</th>\n",
       "      <th>AppointmentID</th>\n",
       "      <th>Gender</th>\n",
       "      <th>ScheduledDay</th>\n",
       "      <th>AppointmentDay</th>\n",
       "      <th>Age</th>\n",
       "      <th>Neighbourhood</th>\n",
       "      <th>Scholarship</th>\n",
       "      <th>Hipertension</th>\n",
       "      <th>Diabetes</th>\n",
       "      <th>Alcoholism</th>\n",
       "      <th>Handcap</th>\n",
       "      <th>SMS_received</th>\n",
       "      <th>Noshow</th>\n",
       "      <th>age_groups</th>\n",
       "      <th>Day_of_the_Week</th>\n",
       "    </tr>\n",
       "  </thead>\n",
       "  <tbody>\n",
       "    <tr>\n",
       "      <th>0</th>\n",
       "      <td>2.987250e+13</td>\n",
       "      <td>5642903</td>\n",
       "      <td>F</td>\n",
       "      <td>2016-04-29T18:38:08Z</td>\n",
       "      <td>2016-04-29 00:00:00+00:00</td>\n",
       "      <td>62</td>\n",
       "      <td>JARDIM DA PENHA</td>\n",
       "      <td>0</td>\n",
       "      <td>1</td>\n",
       "      <td>0</td>\n",
       "      <td>0</td>\n",
       "      <td>0</td>\n",
       "      <td>0</td>\n",
       "      <td>No</td>\n",
       "      <td>56 and over</td>\n",
       "      <td>Friday</td>\n",
       "    </tr>\n",
       "    <tr>\n",
       "      <th>1</th>\n",
       "      <td>5.589980e+14</td>\n",
       "      <td>5642503</td>\n",
       "      <td>M</td>\n",
       "      <td>2016-04-29T16:08:27Z</td>\n",
       "      <td>2016-04-29 00:00:00+00:00</td>\n",
       "      <td>56</td>\n",
       "      <td>JARDIM DA PENHA</td>\n",
       "      <td>0</td>\n",
       "      <td>0</td>\n",
       "      <td>0</td>\n",
       "      <td>0</td>\n",
       "      <td>0</td>\n",
       "      <td>0</td>\n",
       "      <td>No</td>\n",
       "      <td>56 and over</td>\n",
       "      <td>Friday</td>\n",
       "    </tr>\n",
       "    <tr>\n",
       "      <th>2</th>\n",
       "      <td>4.262960e+12</td>\n",
       "      <td>5642549</td>\n",
       "      <td>F</td>\n",
       "      <td>2016-04-29T16:19:04Z</td>\n",
       "      <td>2016-04-29 00:00:00+00:00</td>\n",
       "      <td>62</td>\n",
       "      <td>MATA DA PRAIA</td>\n",
       "      <td>0</td>\n",
       "      <td>0</td>\n",
       "      <td>0</td>\n",
       "      <td>0</td>\n",
       "      <td>0</td>\n",
       "      <td>0</td>\n",
       "      <td>No</td>\n",
       "      <td>56 and over</td>\n",
       "      <td>Friday</td>\n",
       "    </tr>\n",
       "    <tr>\n",
       "      <th>3</th>\n",
       "      <td>8.679510e+11</td>\n",
       "      <td>5642828</td>\n",
       "      <td>F</td>\n",
       "      <td>2016-04-29T17:29:31Z</td>\n",
       "      <td>2016-04-29 00:00:00+00:00</td>\n",
       "      <td>8</td>\n",
       "      <td>PONTAL DE CAMBURI</td>\n",
       "      <td>0</td>\n",
       "      <td>0</td>\n",
       "      <td>0</td>\n",
       "      <td>0</td>\n",
       "      <td>0</td>\n",
       "      <td>0</td>\n",
       "      <td>No</td>\n",
       "      <td>under 19</td>\n",
       "      <td>Friday</td>\n",
       "    </tr>\n",
       "    <tr>\n",
       "      <th>4</th>\n",
       "      <td>8.841190e+12</td>\n",
       "      <td>5642494</td>\n",
       "      <td>F</td>\n",
       "      <td>2016-04-29T16:07:23Z</td>\n",
       "      <td>2016-04-29 00:00:00+00:00</td>\n",
       "      <td>56</td>\n",
       "      <td>JARDIM DA PENHA</td>\n",
       "      <td>0</td>\n",
       "      <td>1</td>\n",
       "      <td>1</td>\n",
       "      <td>0</td>\n",
       "      <td>0</td>\n",
       "      <td>0</td>\n",
       "      <td>No</td>\n",
       "      <td>56 and over</td>\n",
       "      <td>Friday</td>\n",
       "    </tr>\n",
       "  </tbody>\n",
       "</table>\n",
       "</div>"
      ],
      "text/plain": [
       "      PatientId  AppointmentID Gender          ScheduledDay  \\\n",
       "0  2.987250e+13        5642903      F  2016-04-29T18:38:08Z   \n",
       "1  5.589980e+14        5642503      M  2016-04-29T16:08:27Z   \n",
       "2  4.262960e+12        5642549      F  2016-04-29T16:19:04Z   \n",
       "3  8.679510e+11        5642828      F  2016-04-29T17:29:31Z   \n",
       "4  8.841190e+12        5642494      F  2016-04-29T16:07:23Z   \n",
       "\n",
       "             AppointmentDay  Age      Neighbourhood  Scholarship  \\\n",
       "0 2016-04-29 00:00:00+00:00   62    JARDIM DA PENHA            0   \n",
       "1 2016-04-29 00:00:00+00:00   56    JARDIM DA PENHA            0   \n",
       "2 2016-04-29 00:00:00+00:00   62      MATA DA PRAIA            0   \n",
       "3 2016-04-29 00:00:00+00:00    8  PONTAL DE CAMBURI            0   \n",
       "4 2016-04-29 00:00:00+00:00   56    JARDIM DA PENHA            0   \n",
       "\n",
       "   Hipertension  Diabetes  Alcoholism  Handcap  SMS_received Noshow  \\\n",
       "0             1         0           0        0             0     No   \n",
       "1             0         0           0        0             0     No   \n",
       "2             0         0           0        0             0     No   \n",
       "3             0         0           0        0             0     No   \n",
       "4             1         1           0        0             0     No   \n",
       "\n",
       "    age_groups Day_of_the_Week  \n",
       "0  56 and over          Friday  \n",
       "1  56 and over          Friday  \n",
       "2  56 and over          Friday  \n",
       "3     under 19          Friday  \n",
       "4  56 and over          Friday  "
      ]
     },
     "execution_count": 78,
     "metadata": {},
     "output_type": "execute_result"
    }
   ],
   "source": [
    "#we will create a column with the name of the day of the week of the appointment for convenience\n",
    "df['Day_of_the_Week'] = df['AppointmentDay'].dt.day_name() \n",
    "# Check for the Day_of_the_Week column\n",
    "df.head()"
   ]
  },
  {
   "cell_type": "code",
   "execution_count": 79,
   "id": "7fd10836",
   "metadata": {
    "scrolled": true
   },
   "outputs": [
    {
     "name": "stdout",
     "output_type": "stream",
     "text": [
      "                 AppointmentID\n",
      "Day_of_the_Week               \n",
      "Friday                   19019\n",
      "Monday                   22714\n",
      "Saturday                    39\n",
      "Thursday                 17247\n",
      "Tuesday                  25640\n",
      "Wednesday                25867\n"
     ]
    }
   ],
   "source": [
    "#check for number of appointment for each day of the week\n",
    "df_date_a = df.groupby(df.Day_of_the_Week).AppointmentID.count().to_frame()\n",
    "print(df_date_a)"
   ]
  },
  {
   "cell_type": "code",
   "execution_count": 80,
   "id": "f11d483b",
   "metadata": {
    "scrolled": true
   },
   "outputs": [
    {
     "name": "stdout",
     "output_type": "stream",
     "text": [
      "                 AppointmentID\n",
      "Day_of_the_Week               \n",
      "Monday                 22714.0\n",
      "Tuesday                25640.0\n",
      "Wednesday              25867.0\n",
      "Thursday               17247.0\n",
      "Friday                 19019.0\n",
      "Saturday                  39.0\n",
      "Sunday                     NaN\n"
     ]
    }
   ],
   "source": [
    "#correct the order of days of the week \n",
    "days = ['Monday','Tuesday','Wednesday','Thursday','Friday','Saturday', 'Sunday']\n",
    "df_date_b = df.groupby(df.Day_of_the_Week).AppointmentID.count().reindex(days).to_frame()\n",
    "print(df_date_b)"
   ]
  },
  {
   "cell_type": "code",
   "execution_count": 81,
   "id": "e66a424a",
   "metadata": {},
   "outputs": [],
   "source": [
    "#rename AppointmentID column's name\n",
    "df_date= df_date_b.rename(columns = {'AppointmentID':'Number of Visits'})"
   ]
  },
  {
   "cell_type": "code",
   "execution_count": 82,
   "id": "d3b1e115",
   "metadata": {},
   "outputs": [
    {
     "data": {
      "image/png": "[encoded data removed]",
      "text/plain": [
       "<Figure size 1440x576 with 1 Axes>"
      ]
     },
     "metadata": {
      "needs_background": "light"
     },
     "output_type": "display_data"
    }
   ],
   "source": [
    "#simple line chart will be perfect for visualition here\n",
    "ax = df_date.plot.line(color='red')"
   ]
  },
  {
   "cell_type": "markdown",
   "id": "46853e5d",
   "metadata": {},
   "source": [
    "We can clearly see the visits' cumulation in the first three days of the week, then significant decrease on Thursday & Friday and rapid fall on Saturday.\n",
    "We have no confirmation in our data, so we can only presume that the working hours on Saturday are shorter \n",
    "what might explain the rapid fall on Saturday. "
   ]
  },
  {
   "cell_type": "markdown",
   "id": "c66c9b3d",
   "metadata": {},
   "source": [
    "QUESTION 5\n",
    "Does permanent illness or handicap influence the amount of not attended appointments?"
   ]
  },
  {
   "cell_type": "code",
   "execution_count": 83,
   "id": "64c3a581",
   "metadata": {},
   "outputs": [
    {
     "name": "stdout",
     "output_type": "stream",
     "text": [
      "Hipertension\n",
      "0    88725\n",
      "1    21801\n",
      "Name: AppointmentID, dtype: int64\n"
     ]
    }
   ],
   "source": [
    "#check number of visits for patients with hipertension\n",
    "hipertension_visits = df.groupby(['Hipertension']).count()['AppointmentID']\n",
    "print(hipertension_visits)"
   ]
  },
  {
   "cell_type": "code",
   "execution_count": 84,
   "id": "d78a4c6f",
   "metadata": {},
   "outputs": [
    {
     "data": {
      "text/plain": [
       "21801"
      ]
     },
     "execution_count": 84,
     "metadata": {},
     "output_type": "execute_result"
    }
   ],
   "source": [
    "#check for number appointments made by patientts with hipertension only\n",
    "df['Hipertension'].value_counts()[1]"
   ]
  },
  {
   "cell_type": "code",
   "execution_count": 85,
   "id": "9a802ea6",
   "metadata": {},
   "outputs": [
    {
     "data": {
      "text/plain": [
       "0.19724770642201836"
      ]
     },
     "execution_count": 85,
     "metadata": {},
     "output_type": "execute_result"
    }
   ],
   "source": [
    "#check the percentage which this number makes of total appointments in hipertension column\n",
    "df['Hipertension'].value_counts(normalize=True)[1]"
   ]
  },
  {
   "cell_type": "code",
   "execution_count": 86,
   "id": "62c2d6fc",
   "metadata": {
    "scrolled": false
   },
   "outputs": [
    {
     "name": "stdout",
     "output_type": "stream",
     "text": [
      "Hipertension\n",
      "1    3772\n",
      "Name: Noshow, dtype: int64\n"
     ]
    }
   ],
   "source": [
    "#show only the number of no-show appointment for patients with hipertenstion\n",
    "hipertension_noshow = df.query('Noshow==\"Yes\" & Hipertension ==1').groupby(['Hipertension']).count()['Noshow']\n",
    "print(hipertension_noshow)"
   ]
  },
  {
   "cell_type": "code",
   "execution_count": 87,
   "id": "d2bf1fdb",
   "metadata": {},
   "outputs": [
    {
     "name": "stdout",
     "output_type": "stream",
     "text": [
      "Hipertension\n",
      "1    3.412772\n",
      "Name: Noshow, dtype: float64\n"
     ]
    }
   ],
   "source": [
    "pct_hipertension_noshow = 100*hipertension_noshow/df['Hipertension'].count()\n",
    "print(pct_hipertension_noshow)"
   ]
  },
  {
   "cell_type": "markdown",
   "id": "9a3812e9",
   "metadata": {},
   "source": [
    "Do the same for Diabetes column"
   ]
  },
  {
   "cell_type": "code",
   "execution_count": 88,
   "id": "0f4122a1",
   "metadata": {},
   "outputs": [
    {
     "data": {
      "text/plain": [
       "110526"
      ]
     },
     "execution_count": 88,
     "metadata": {},
     "output_type": "execute_result"
    }
   ],
   "source": [
    "df['Diabetes'].count()"
   ]
  },
  {
   "cell_type": "code",
   "execution_count": 89,
   "id": "711b3cca",
   "metadata": {},
   "outputs": [
    {
     "name": "stdout",
     "output_type": "stream",
     "text": [
      "Diabetes\n",
      "0    102583\n",
      "1      7943\n",
      "Name: Noshow, dtype: int64\n"
     ]
    }
   ],
   "source": [
    "#check number of visits for patients without and with diabetes\n",
    "diabetes_visits = df.groupby(['Diabetes']).count()['Noshow']\n",
    "print(diabetes_visits)"
   ]
  },
  {
   "cell_type": "code",
   "execution_count": 90,
   "id": "86f0c270",
   "metadata": {},
   "outputs": [
    {
     "data": {
      "text/plain": [
       "0.07186544342507645"
      ]
     },
     "execution_count": 90,
     "metadata": {},
     "output_type": "execute_result"
    }
   ],
   "source": [
    "#check the percentage that diabetes patients make of total number of appointments\n",
    "df['Diabetes'].value_counts(normalize=True)[1]"
   ]
  },
  {
   "cell_type": "code",
   "execution_count": 91,
   "id": "d987dd81",
   "metadata": {},
   "outputs": [
    {
     "name": "stdout",
     "output_type": "stream",
     "text": [
      "Diabetes\n",
      "1    1430\n",
      "Name: Noshow, dtype: int64\n"
     ]
    }
   ],
   "source": [
    "#check only the number of no-show appointments for patients with diabetes\n",
    "diabetes_noshow = df.query('Noshow==\"Yes\" & Diabetes ==1').groupby(['Diabetes']).count()['Noshow']\n",
    "print(diabetes_noshow)"
   ]
  },
  {
   "cell_type": "code",
   "execution_count": 92,
   "id": "7948cd5c",
   "metadata": {},
   "outputs": [
    {
     "name": "stdout",
     "output_type": "stream",
     "text": [
      "Diabetes\n",
      "1    1.293813\n",
      "Name: Noshow, dtype: float64\n"
     ]
    }
   ],
   "source": [
    "#percentage that no-show show visits make in group of diabetes patients\n",
    "pct_diabetes_noshow = 100*diabetes_noshow/df['Noshow'].count()\n",
    "print(pct_diabetes_noshow)"
   ]
  },
  {
   "cell_type": "markdown",
   "id": "065fc989",
   "metadata": {},
   "source": [
    "Do the same for Alcoholism column"
   ]
  },
  {
   "cell_type": "code",
   "execution_count": 93,
   "id": "2da04647",
   "metadata": {},
   "outputs": [
    {
     "name": "stdout",
     "output_type": "stream",
     "text": [
      "Alcoholism\n",
      "0    107166\n",
      "1      3360\n",
      "Name: Noshow, dtype: int64\n"
     ]
    }
   ],
   "source": [
    "#check number of visits for patients without and with alcoholism\n",
    "alcoholism_visits = df.groupby(['Alcoholism']).count()['Noshow']\n",
    "print(alcoholism_visits)"
   ]
  },
  {
   "cell_type": "code",
   "execution_count": 94,
   "id": "0e638c54",
   "metadata": {},
   "outputs": [
    {
     "data": {
      "text/plain": [
       "0.030400086857391023"
      ]
     },
     "execution_count": 94,
     "metadata": {},
     "output_type": "execute_result"
    }
   ],
   "source": [
    "#check the percentage that alcoholism patients make of total number of appointments\n",
    "df['Alcoholism'].value_counts(normalize=True)[1]"
   ]
  },
  {
   "cell_type": "code",
   "execution_count": 95,
   "id": "0d79b68f",
   "metadata": {},
   "outputs": [
    {
     "name": "stdout",
     "output_type": "stream",
     "text": [
      "Alcoholism\n",
      "1    677\n",
      "Name: Noshow, dtype: int64\n"
     ]
    }
   ],
   "source": [
    "#check only the number of no-show appointments for patients with alcoholism\n",
    "alcoholism_noshow = df.query('Noshow==\"Yes\" & Alcoholism ==1').groupby(['Alcoholism']).count()['Noshow']\n",
    "print(alcoholism_noshow)"
   ]
  },
  {
   "cell_type": "code",
   "execution_count": 96,
   "id": "abdd676b",
   "metadata": {},
   "outputs": [
    {
     "name": "stdout",
     "output_type": "stream",
     "text": [
      "Alcoholism\n",
      "1    0.612526\n",
      "Name: Noshow, dtype: float64\n"
     ]
    }
   ],
   "source": [
    "#percentage that no-show show visits make in group of alcoholism patients\n",
    "pct_alcoholism_noshow = 100*alcoholism_noshow/df['Noshow'].count()\n",
    "print(pct_alcoholism_noshow)"
   ]
  },
  {
   "cell_type": "markdown",
   "id": "e8ee835a",
   "metadata": {},
   "source": [
    "Do the same for handicap column. \n",
    "Then put together percentages of no show visits for each group. "
   ]
  },
  {
   "cell_type": "code",
   "execution_count": 97,
   "id": "1a88a1a6",
   "metadata": {},
   "outputs": [
    {
     "name": "stdout",
     "output_type": "stream",
     "text": [
      "Handcap\n",
      "0    108285\n",
      "1      2042\n",
      "2       183\n",
      "3        13\n",
      "4         3\n",
      "Name: Noshow, dtype: int64\n"
     ]
    }
   ],
   "source": [
    "#check number of visits for patients without and with handicap\n",
    "handcap_visits = df.groupby(['Handcap']).count()['Noshow']\n",
    "print(handcap_visits)"
   ]
  },
  {
   "cell_type": "markdown",
   "id": "4b310c3e",
   "metadata": {},
   "source": [
    "We got an unexpected result: instead of 0 and 1 we have 0-4. Lets check unique values in Handcap column"
   ]
  },
  {
   "cell_type": "code",
   "execution_count": 98,
   "id": "e20560f8",
   "metadata": {},
   "outputs": [
    {
     "data": {
      "text/plain": [
       "array([0, 1, 2, 3, 4], dtype=int64)"
      ]
     },
     "execution_count": 98,
     "metadata": {},
     "output_type": "execute_result"
    }
   ],
   "source": [
    "df['Handcap'].unique()"
   ]
  },
  {
   "cell_type": "markdown",
   "id": "cb39807d",
   "metadata": {},
   "source": [
    "The description for the data set is not provided so we can only presume that in Handcap column the values confirm both: wheter or not a patient has a handicap as well as the number of patient's handicaps."
   ]
  },
  {
   "cell_type": "code",
   "execution_count": 99,
   "id": "0ca970bd",
   "metadata": {},
   "outputs": [
    {
     "name": "stdout",
     "output_type": "stream",
     "text": [
      "2241\n"
     ]
    }
   ],
   "source": [
    "#check the total number of appointments for handicap patients's\n",
    "all_handcap_visits = df.query('Handcap in [1, 2, 3, 4]').count()['Noshow']\n",
    "print(all_handcap_visits)"
   ]
  },
  {
   "cell_type": "code",
   "execution_count": 100,
   "id": "6571ad5e",
   "metadata": {},
   "outputs": [
    {
     "name": "stdout",
     "output_type": "stream",
     "text": [
      "2.0275772216492047\n"
     ]
    }
   ],
   "source": [
    "#check the percentage that handcap patients make of total number of appointments\n",
    "pct_all_handcap = 100*all_handcap_visits/df['Noshow'].count()\n",
    "print(pct_all_handcap)"
   ]
  },
  {
   "cell_type": "code",
   "execution_count": 101,
   "id": "94497b3c",
   "metadata": {},
   "outputs": [
    {
     "name": "stdout",
     "output_type": "stream",
     "text": [
      "407\n"
     ]
    }
   ],
   "source": [
    "#check only the number of no-show appointments for patients with any handicaps \n",
    "\n",
    "#handcap_noshow = df.query('(Noshow==\"Yes\") and (Handcap in [1, 2, 3, 4])').groupby(['Handcap']).count()['Noshow']\n",
    "handcap_noshow = df.query('(Noshow==\"Yes\") and (Handcap in [1, 2, 3, 4])').count()['Noshow']\n",
    "print(handcap_noshow)"
   ]
  },
  {
   "cell_type": "code",
   "execution_count": 102,
   "id": "081f65a7",
   "metadata": {},
   "outputs": [
    {
     "name": "stdout",
     "output_type": "stream",
     "text": [
      "0.3682391473499448\n"
     ]
    }
   ],
   "source": [
    "#percentage that no-show show visits make in group of handicap patients\n",
    "pct_handcap_noshow = 100*handcap_noshow/df['Noshow'].count()\n",
    "print(pct_handcap_noshow)"
   ]
  },
  {
   "cell_type": "code",
   "execution_count": 103,
   "id": "ee1ccc51",
   "metadata": {},
   "outputs": [
    {
     "data": {
      "image/png": "[encoded data removed]",
      "text/plain": [
       "<Figure size 576x360 with 1 Axes>"
      ]
     },
     "metadata": {
      "needs_background": "light"
     },
     "output_type": "display_data"
    }
   ],
   "source": [
    "labels = ['Hipertension', 'Diabetes', 'Alcoholism', 'Handicaps']\n",
    "pct_of_total_visits = [0.20, 0.07, 0.03, 2.03]\n",
    "pct_of_noshow_visits = [3.41, 1.3, 0.61, 0.37]\n",
    "x = np.arange(len(labels))  # the label locations\n",
    "width = 0.35  # the width of the bars\n",
    "\n",
    "fig, ax = plt.subplots(figsize=(8,5))\n",
    "rects3 = ax.bar(x - width/2, pct_of_total_visits, width, label='% of total visits', color= 'lightgreen')\n",
    "rects4 = ax.bar(x + width/2, pct_of_noshow_visits, width, label='No-show visits %', color= 'lightblue')\n",
    "\n",
    "# Add some text for labels, title and custom x-axis tick labels, etc.\n",
    "ax.set_xlabel('Illness / Handicap')\n",
    "ax.set_ylabel('% of Appointments')\n",
    "\n",
    "ax.set_xticks(x)\n",
    "ax.set_xticklabels(labels)\n",
    "ax.legend()\n",
    "\n",
    "\n",
    "def autolabel(rects):\n",
    "    \"\"\"Attach a text label above each bar in *rects*, displaying its height.\"\"\"\n",
    "    for rect in rects:\n",
    "        height = rect.get_height()\n",
    "        ax.annotate('{}'.format(height),\n",
    "                    xy=(rect.get_x() + rect.get_width() / 2, height),\n",
    "                    xytext=(0, 3),  # 3 points vertical offset\n",
    "                    textcoords=\"offset points\",\n",
    "                    ha='center', va='bottom')\n",
    "\n",
    "\n",
    "autolabel(rects3)\n",
    "autolabel(rects4)\n",
    "\n",
    "fig.tight_layout()\n",
    "#draw median line\n",
    "#df['Noshow']\n",
    "#median = df[Noshow.median()\n",
    "#plt.axhline(median, color='red', ls='dotted')\n",
    "\n",
    "plt.show()"
   ]
  },
  {
   "cell_type": "markdown",
   "id": "dd6a661a",
   "metadata": {},
   "source": [
    "Number of appointments for patients with hipertension, diabetes, alcoholism and handicaps is small \n",
    "(these visits make between 0.03-2.03 % of total number of appointments). \n",
    "In all groups the percentage of noshow visits is also very small - between 0.37 - 3.41%.\n",
    "In a group with the biggest number of visits (handicaps) the percentage of no show visits is the smallest.\n",
    "While in a group with hipertension (second in regards of number of visits) the percentage of no-show visits is the biggest."
   ]
  },
  {
   "cell_type": "markdown",
   "id": "3fdc9785",
   "metadata": {},
   "source": [
    "CONCLUSIONS\n",
    "\n",
    "The amount of unattended appointments in May, 2016, makes around 20% of total number of appointments. \n",
    "Assuming that attendance over 90% is considered as good, the above result suggest that some improvements might be needed. \n",
    "\n",
    "1.Is appointment attendance dependent on patients' age? \n",
    "\n",
    "  The appointment attendace is slightly dependent on patients' age.\n",
    "  The analysis show that patients in groups 38-55, 56-115 are more likely to attend the appoinment.\n",
    "  Therefore, when planning attendance improvement, it would be reasonable to focus rather on groups of younger patients (till \n",
    "  18, 19-37). \n",
    "  \n",
    "   \n",
    "2.Is there a link between message received / not received and not showing up for the appointment?\n",
    "  If yes, in which age group this dependency is the strongest\n",
    "  \n",
    "  In general, more than half of the patients (over 67% of patients) did not received an sms before their visit. \n",
    "  The results of analysis show that in each age group sms receivement increases appointment attendace.\n",
    "  Especially, in the groups till_18 and 56-115.\n",
    "  To increase the attendance, we would suggest improvement of sms sending system. First, increase the amount of patients who \n",
    "  would receive sms. Second, allow sending sms twice to the youngest group, as this group has the highest number of \n",
    "  unattended visits in total.\n",
    "\n",
    "3.Is there a difference in appointments' attendace for different neighbourhoods. \n",
    "  Which neighbourhood has the highest number of ‘no-show-ups’? \n",
    "  \n",
    "  The prevailing amonunt of neighbourhoods has the avarage percentage of unattended appointments on the same level - around \n",
    "  20%.\n",
    "  There are only four neigbourhoods with siginificantly lower attendance, so we focus on them.\n",
    "  We found out that the overall number of visits in selected neighbourhoods is very low. Therefore, in these four areas , it \n",
    "  might be reasonable to focus first on improving the overall number of appointments made, instead of focusing on no-show \n",
    "  visits only.  \n",
    "\n",
    "  For the future reference, the analysis might be continued in this direction with focus on neighbourhoods with number of\n",
    "  no-show visits closer to median - but only if we would have data for longer period of time.\n",
    "  \n",
    "4.Does time (month, day of the week) of the appointment make a difference for appointments' frequency?\n",
    "\n",
    "  We have data for a very short period of time (29/04/2016 - 08/06/2016) so we don't analyse overall appointments'  frequency.\n",
    "  Focusing on frequency for days of the week instead, we observe visits' cumulation in the first three days of the week, then\n",
    "  significant decrease on Thursday & Friday and rapid fall on Saturday.\n",
    "  We have no confirmation in our data, so we can only presume that the working hours on Saturday are shorter \n",
    "  what might explain the rapid fall on Saturday. \n",
    "\n",
    "  The suggested improvements here might be:\n",
    "  -expand the working hours on Monday, Tuesday & Wednesday by, for example, expanding staff numbers and adding extra shifts to\n",
    "  the timeschedule.\n",
    "  -if hiring new staff is an issue - maybe shorten working hours on Friday, Tuesday and move saved shifts to Mo, Tu & Th?\n",
    "  -check working hours on Saturday - maybe something could be changed (working hours misght be prolong or shortened even more, \n",
    "   depends on existing timetable).\n",
    "\n",
    "\n",
    "5.Does illness or disability influence the amount of not attended appointments?\n",
    "  \n",
    "  Number of appointments for patients with hipertension, diabetes, alcoholism and handicaps is small \n",
    "  (these visits make between 0.03-2.03 % of total number of appointments). \n",
    "  In all these groups the percentage of noshow visits is also very small - between 0.37 - 3.41%.\n",
    "  In a group with the biggest number of visits (handicaps) the percentage of no show visits is the smallest,\n",
    "  while in a group with hipertension (second in regards of number of visits) the percentage of no-show visits is the biggest.\n",
    "  \n",
    "  We suggest that hipertension, alcoholism, diabetes and handicaps should not be the main factors to be taken into the \n",
    "  considaration while preparing the attendance improvement plan.\n",
    "  \n",
    "  Possible suggestion here - maybe it is worth to check the statistics for a longer period of time for people with longterm \n",
    "  illnesses and handicaps to: \n",
    "  First, answer the question how many patients with illnesses/handicaps are registered in the system and how many & with what\n",
    "  frequency those patients make appointments. \n",
    "  Second: it would be then more possible to presume which group of these patients is more likely to attend the appointment.\n",
    "  \n",
    "  \n",
    "  If the data for longer period of time and some more detailed information would be provided in the dataset, more precise\n",
    "  and detailed analysis would be possible. \n",
    "  \n",
    "  Credits:\n",
    "  https://pandas.pydata.org/pandas-docs/stable/user_guide/index.html, https://numpy.org/devdocs/user/index.html,\n",
    "  https://docs.python.org/3/contents.html, https://matplotlib.org/3.5.1/tutorials/index.html, https://seaborn.pydata.org/, \n",
    "  https://stackoverflow.com/\n",
    "  \n",
    "  \n",
    "  "
   ]
  }
 ],
 "metadata": {
  "kernelspec": {
   "display_name": "Python 3 (ipykernel)",
   "language": "python",
   "name": "python3"
  },
  "language_info": {
   "codemirror_mode": {
    "name": "ipython",
    "version": 3
   },
   "file_extension": ".py",
   "mimetype": "text/x-python",
   "name": "python",
   "nbconvert_exporter": "python",
   "pygments_lexer": "ipython3",
   "version": "3.8.11"
  }
 },
 "nbformat": 4,
 "nbformat_minor": 5
}
